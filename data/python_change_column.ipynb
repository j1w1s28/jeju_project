{
 "cells": [
  {
   "cell_type": "code",
   "execution_count": 1,
   "id": "8db719cd",
   "metadata": {},
   "outputs": [],
   "source": [
    "import pandas as pd\n",
    "import numpy as np"
   ]
  },
  {
   "cell_type": "code",
   "execution_count": 26,
   "id": "5357f7f6",
   "metadata": {},
   "outputs": [],
   "source": [
    "jeju_tour_places=pd.read_csv('./jeju_tour_places.csv',encoding='ansi')\n",
    "jeju_stay = pd.read_csv('./jeju_stay.csv',encoding='ansi')\n",
    "jeju_food = pd.read_csv('./jeju_food.csv',encoding='ansi')"
   ]
  },
  {
   "cell_type": "code",
   "execution_count": 27,
   "id": "03b77f35",
   "metadata": {},
   "outputs": [
    {
     "data": {
      "text/plain": [
       "((1103, 31), (1642, 31), (933, 31))"
      ]
     },
     "execution_count": 27,
     "metadata": {},
     "output_type": "execute_result"
    }
   ],
   "source": [
    "jeju_tour_places.shape,jeju_food.shape,jeju_stay.shape"
   ]
  },
  {
   "cell_type": "code",
   "execution_count": 30,
   "id": "3df405f1",
   "metadata": {
    "scrolled": false
   },
   "outputs": [],
   "source": [
    "df_list = [jeju_tour_places,jeju_food,jeju_stay]"
   ]
  },
  {
   "cell_type": "code",
   "execution_count": 32,
   "id": "33108ed2",
   "metadata": {},
   "outputs": [],
   "source": [
    "drop_list = ['region1cd','region2cd','postcode','created','changed','festivalcontents','reservelink']"
   ]
  },
  {
   "cell_type": "code",
   "execution_count": 33,
   "id": "ade6858e",
   "metadata": {},
   "outputs": [],
   "source": [
    "for df in df_list:\n",
    "    df.drop(drop_list,axis=1,inplace=True)"
   ]
  },
  {
   "cell_type": "code",
   "execution_count": 49,
   "id": "e20be680",
   "metadata": {},
   "outputs": [
    {
     "data": {
      "text/plain": [
       "'음식점'"
      ]
     },
     "execution_count": 49,
     "metadata": {},
     "output_type": "execute_result"
    }
   ],
   "source": [
    "eval(jeju_food['contentscd'][0])['label']"
   ]
  },
  {
   "cell_type": "code",
   "execution_count": 50,
   "id": "75d30ec0",
   "metadata": {},
   "outputs": [
    {
     "data": {
      "text/plain": [
       "0       음식점\n",
       "1       음식점\n",
       "2       음식점\n",
       "3       음식점\n",
       "4       음식점\n",
       "       ... \n",
       "1637    음식점\n",
       "1638    음식점\n",
       "1639    음식점\n",
       "1640    음식점\n",
       "1641    관광지\n",
       "Name: contentscd, Length: 1642, dtype: object"
      ]
     },
     "execution_count": 50,
     "metadata": {},
     "output_type": "execute_result"
    }
   ],
   "source": [
    "jeju_food['contentscd'].apply(lambda x: eval(x)['label'] )"
   ]
  },
  {
   "cell_type": "code",
   "execution_count": 53,
   "id": "4cc88d64",
   "metadata": {},
   "outputs": [],
   "source": [
    "for df in df_list:\n",
    "    df['contentscd']= df['contentscd'].apply(lambda x: eval(x)['label'])"
   ]
  },
  {
   "cell_type": "code",
   "execution_count": 69,
   "id": "f0832e7d",
   "metadata": {
    "scrolled": true
   },
   "outputs": [
    {
     "data": {
      "text/plain": [
       "'음식점'"
      ]
     },
     "execution_count": 69,
     "metadata": {},
     "output_type": "execute_result"
    }
   ],
   "source": [
    "eval(jeju_food['catemappList'][0])[0]['cate1cd']['label']"
   ]
  },
  {
   "cell_type": "code",
   "execution_count": 70,
   "id": "2c879347",
   "metadata": {},
   "outputs": [
    {
     "data": {
      "text/plain": [
       "'한식'"
      ]
     },
     "execution_count": 70,
     "metadata": {},
     "output_type": "execute_result"
    }
   ],
   "source": [
    "eval(jeju_food['catemappList'][0])[0]['cate2cd']['label']"
   ]
  },
  {
   "cell_type": "code",
   "execution_count": 71,
   "id": "7bfc972a",
   "metadata": {},
   "outputs": [
    {
     "data": {
      "text/plain": [
       "'한식'"
      ]
     },
     "execution_count": 71,
     "metadata": {},
     "output_type": "execute_result"
    }
   ],
   "source": [
    "eval(jeju_food['catemappList'][0])[0]['cate3cd']['label']"
   ]
  },
  {
   "cell_type": "code",
   "execution_count": 76,
   "id": "265c3609",
   "metadata": {},
   "outputs": [
    {
     "data": {
      "text/plain": [
       "{'seq': 25376,\n",
       " 'contentsid': {'value': 'CNTS_200000000011381',\n",
       "  'label': '카페 8',\n",
       "  'refId': 'CNTS_200000000011381'},\n",
       " 'cate1cd': {'value': 'cate0000000005',\n",
       "  'label': '음식점',\n",
       "  'refId': 'contscate>cate0000000005'},\n",
       " 'cate2cd': {'value': 'cate0000001267',\n",
       "  'label': '양식',\n",
       "  'refId': 'cate0000000005>cate0000001267'},\n",
       " 'cate3cd': {'value': 'cate0000001311',\n",
       "  'label': '양식',\n",
       "  'refId': 'cate0000001267>cate0000001311'},\n",
       " 'created': '20210420160506'}"
      ]
     },
     "execution_count": 76,
     "metadata": {},
     "output_type": "execute_result"
    }
   ],
   "source": [
    "eval(jeju_food['catemappList'][1222])[0]"
   ]
  },
  {
   "cell_type": "code",
   "execution_count": 80,
   "id": "5cb5f44d",
   "metadata": {},
   "outputs": [],
   "source": [
    "for df in df_list:\n",
    "    df['cate1cd']= df['catemappList'].apply(lambda x: eval(x)[0]['cate1cd']['label'])\n",
    "    df['cate2cd']= df['catemappList'].apply(lambda x: eval(x)[0]['cate2cd']['label'])\n",
    "    df['cate3cd']= df['catemappList'].apply(lambda x: eval(x)[0]['cate3cd']['label'])"
   ]
  },
  {
   "cell_type": "code",
   "execution_count": 82,
   "id": "1ac7e47d",
   "metadata": {},
   "outputs": [],
   "source": [
    "for df in df_list:\n",
    "    df.drop('catemappList',axis=1,inplace=True)"
   ]
  },
  {
   "cell_type": "code",
   "execution_count": 196,
   "id": "7e847bc6",
   "metadata": {},
   "outputs": [],
   "source": [
    "for df in df_list:\n",
    "    df.drop('Unnamed: 0',axis=1,inplace=True)"
   ]
  },
  {
   "cell_type": "code",
   "execution_count": 177,
   "id": "6d7dd1d7",
   "metadata": {},
   "outputs": [],
   "source": [
    "for df in df_list:\n",
    "    df['imgpath'] = df['repPhoto'].apply(lambda x: '' if x is np.NaN else eval(x)['photoid']['imgpath'])\n",
    "    df['thumbnailpath'] = df['repPhoto'].apply(lambda x: '' if x is np.NaN else eval(x)['photoid']['thumbnailpath'])"
   ]
  },
  {
   "cell_type": "code",
   "execution_count": 180,
   "id": "0adf0b18",
   "metadata": {
    "scrolled": true
   },
   "outputs": [
    {
     "data": {
      "text/plain": [
       "Unnamed: 0                                                      1486\n",
       "alltag             바, LP, 칵테일, 혼술,공용주차장,화장실,무료 WIFI,와인, 맥주, 칵테일,어...\n",
       "contentsid                                      CNTS_200000000007139\n",
       "contentscd                                                       음식점\n",
       "title                                                            마틸다\n",
       "address                                      제주특별자치도 제주시 애월읍 고내리 841\n",
       "roadaddress                                  제주특별자치도 제주시 애월읍 고내1길 33\n",
       "tag                                 칵테일,맥주,커피,음식,진토닉칵테일,와인,아메리카노,에이드\n",
       "introduction       애월에 위치한 마틸다는 이곳에 방문하는 이들의 취향에 맞게 신청곡을 틀어주며, 술 ...\n",
       "readcnt                                                         1629\n",
       "likecnt                                                            0\n",
       "reviewcnt                                                          0\n",
       "markcnt                                                            2\n",
       "snssharecnt                                                        1\n",
       "schedulecnt                                                        0\n",
       "visitcnt                                                           0\n",
       "evelpt                                                           0.0\n",
       "latitude                                                   33.465631\n",
       "longitude                                                 126.334288\n",
       "phoneno                                                 064-799-3629\n",
       "sbst               애월 근린공원 인근에 위치한 마틸다는 이곳을 방문하는 이들의 취향에 맞게 신청곡을 ...\n",
       "repPhoto                                                         NaN\n",
       "PHOTOSHARECOUNT                                                  0.0\n",
       "cate1cd                                                          음식점\n",
       "cate2cd                                                           카페\n",
       "cate3cd                                                           카페\n",
       "imgpath                                                             \n",
       "thumbnailpath                                                       \n",
       "Name: 1486, dtype: object"
      ]
     },
     "execution_count": 180,
     "metadata": {},
     "output_type": "execute_result"
    }
   ],
   "source": [
    "jeju_food.loc[1486]"
   ]
  },
  {
   "cell_type": "code",
   "execution_count": 183,
   "id": "cc96afff",
   "metadata": {},
   "outputs": [],
   "source": [
    "for df in df_list:\n",
    "    df.drop('repPhoto',axis=1,inplace=True)"
   ]
  },
  {
   "cell_type": "code",
   "execution_count": 187,
   "id": "fa33baeb",
   "metadata": {},
   "outputs": [],
   "source": [
    "for df in df_list:\n",
    "    df.drop('cate1cd',axis=1,inplace=True)"
   ]
  },
  {
   "cell_type": "code",
   "execution_count": 197,
   "id": "1dab341b",
   "metadata": {},
   "outputs": [],
   "source": [
    "jeju_food.to_csv('./jeju_food_modified.csv',encoding='ansi')\n",
    "jeju_stay.to_csv('./jeju_stay_modified.csv',encoding='ansi')\n",
    "jeju_stay.to_csv('./jeju_tour_places_modified.csv',encoding='ansi')"
   ]
  },
  {
   "cell_type": "code",
   "execution_count": null,
   "id": "f77ed13b",
   "metadata": {},
   "outputs": [],
   "source": []
  }
 ],
 "metadata": {
  "kernelspec": {
   "display_name": "Python 3 (ipykernel)",
   "language": "python",
   "name": "python3"
  },
  "language_info": {
   "codemirror_mode": {
    "name": "ipython",
    "version": 3
   },
   "file_extension": ".py",
   "mimetype": "text/x-python",
   "name": "python",
   "nbconvert_exporter": "python",
   "pygments_lexer": "ipython3",
   "version": "3.8.13"
  }
 },
 "nbformat": 4,
 "nbformat_minor": 5
}
