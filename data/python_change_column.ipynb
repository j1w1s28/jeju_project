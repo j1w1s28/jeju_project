{
 "cells": [
  {
   "cell_type": "code",
   "execution_count": 1,
   "id": "d0fc8184",
   "metadata": {},
   "outputs": [],
   "source": [
    "import pandas as pd\n",
    "import numpy as np"
   ]
  },
  {
   "cell_type": "code",
   "execution_count": 26,
   "id": "250c49dc",
   "metadata": {},
   "outputs": [],
   "source": [
    "jeju_tour_places=pd.read_csv('./jeju_tour_places.csv',encoding='ansi')\n",
    "jeju_stay = pd.read_csv('./jeju_stay.csv',encoding='ansi')\n",
    "jeju_food = pd.read_csv('./jeju_food.csv',encoding='ansi')"
   ]
  },
  {
   "cell_type": "code",
   "execution_count": 27,
   "id": "5ded978d",
   "metadata": {},
   "outputs": [
    {
     "data": {
      "text/plain": [
       "((1103, 31), (1642, 31), (933, 31))"
      ]
     },
     "execution_count": 27,
     "metadata": {},
     "output_type": "execute_result"
    }
   ],
   "source": [
    "jeju_tour_places.shape,jeju_food.shape,jeju_stay.shape"
   ]
  },
  {
   "cell_type": "code",
   "execution_count": 30,
   "id": "66376323",
   "metadata": {
    "scrolled": false
   },
   "outputs": [],
   "source": [
    "df_list = [jeju_tour_places,jeju_food,jeju_stay]"
   ]
  },
  {
   "cell_type": "code",
   "execution_count": 32,
   "id": "539dda96",
   "metadata": {},
   "outputs": [],
   "source": [
    "drop_list = ['region1cd','region2cd','postcode','created','changed','festivalcontents','reservelink']"
   ]
  },
  {
   "cell_type": "code",
   "execution_count": 33,
   "id": "4a6d07ce",
   "metadata": {},
   "outputs": [],
   "source": [
    "for df in df_list:\n",
    "    df.drop(drop_list,axis=1,inplace=True)"
   ]
  },
  {
   "cell_type": "code",
   "execution_count": 49,
   "id": "368db450",
   "metadata": {},
   "outputs": [
    {
     "data": {
      "text/plain": [
       "'음식점'"
      ]
     },
     "execution_count": 49,
     "metadata": {},
     "output_type": "execute_result"
    }
   ],
   "source": [
    "eval(jeju_food['contentscd'][0])['label']"
   ]
  },
  {
   "cell_type": "code",
   "execution_count": 50,
   "id": "a2eeb999",
   "metadata": {},
   "outputs": [
    {
     "data": {
      "text/plain": [
       "0       음식점\n",
       "1       음식점\n",
       "2       음식점\n",
       "3       음식점\n",
       "4       음식점\n",
       "       ... \n",
       "1637    음식점\n",
       "1638    음식점\n",
       "1639    음식점\n",
       "1640    음식점\n",
       "1641    관광지\n",
       "Name: contentscd, Length: 1642, dtype: object"
      ]
     },
     "execution_count": 50,
     "metadata": {},
     "output_type": "execute_result"
    }
   ],
   "source": [
    "jeju_food['contentscd'].apply(lambda x: eval(x)['label'] )"
   ]
  },
  {
   "cell_type": "code",
   "execution_count": 53,
   "id": "7ee3e3e8",
   "metadata": {},
   "outputs": [],
   "source": [
    "for df in df_list:\n",
    "    df['contentscd']= df['contentscd'].apply(lambda x: eval(x)['label'])"
   ]
  },
  {
   "cell_type": "code",
   "execution_count": 69,
   "id": "d673d1fc",
   "metadata": {
    "scrolled": true
   },
   "outputs": [
    {
     "data": {
      "text/plain": [
       "'음식점'"
      ]
     },
     "execution_count": 69,
     "metadata": {},
     "output_type": "execute_result"
    }
   ],
   "source": [
    "eval(jeju_food['catemappList'][0])[0]['cate1cd']['label']"
   ]
  },
  {
   "cell_type": "code",
   "execution_count": 70,
   "id": "8b0240ff",
   "metadata": {},
   "outputs": [
    {
     "data": {
      "text/plain": [
       "'한식'"
      ]
     },
     "execution_count": 70,
     "metadata": {},
     "output_type": "execute_result"
    }
   ],
   "source": [
    "eval(jeju_food['catemappList'][0])[0]['cate2cd']['label']"
   ]
  },
  {
   "cell_type": "code",
   "execution_count": 71,
   "id": "ba276423",
   "metadata": {},
   "outputs": [
    {
     "data": {
      "text/plain": [
       "'한식'"
      ]
     },
     "execution_count": 71,
     "metadata": {},
     "output_type": "execute_result"
    }
   ],
   "source": [
    "eval(jeju_food['catemappList'][0])[0]['cate3cd']['label']"
   ]
  },
  {
   "cell_type": "code",
   "execution_count": 76,
   "id": "8e151497",
   "metadata": {},
   "outputs": [
    {
     "data": {
      "text/plain": [
       "{'seq': 25376,\n",
       " 'contentsid': {'value': 'CNTS_200000000011381',\n",
       "  'label': '카페 8',\n",
       "  'refId': 'CNTS_200000000011381'},\n",
       " 'cate1cd': {'value': 'cate0000000005',\n",
       "  'label': '음식점',\n",
       "  'refId': 'contscate>cate0000000005'},\n",
       " 'cate2cd': {'value': 'cate0000001267',\n",
       "  'label': '양식',\n",
       "  'refId': 'cate0000000005>cate0000001267'},\n",
       " 'cate3cd': {'value': 'cate0000001311',\n",
       "  'label': '양식',\n",
       "  'refId': 'cate0000001267>cate0000001311'},\n",
       " 'created': '20210420160506'}"
      ]
     },
     "execution_count": 76,
     "metadata": {},
     "output_type": "execute_result"
    }
   ],
   "source": [
    "eval(jeju_food['catemappList'][1222])[0]"
   ]
  },
  {
   "cell_type": "code",
   "execution_count": 80,
   "id": "9ce19672",
   "metadata": {},
   "outputs": [],
   "source": [
    "for df in df_list:\n",
    "    df['cate1cd']= df['catemappList'].apply(lambda x: eval(x)[0]['cate1cd']['label'])\n",
    "    df['cate2cd']= df['catemappList'].apply(lambda x: eval(x)[0]['cate2cd']['label'])\n",
    "    df['cate3cd']= df['catemappList'].apply(lambda x: eval(x)[0]['cate3cd']['label'])"
   ]
  },
  {
   "cell_type": "code",
   "execution_count": 82,
   "id": "d90d2715",
   "metadata": {},
   "outputs": [],
   "source": [
    "for df in df_list:\n",
    "    df.drop('catemappList',axis=1,inplace=True)"
   ]
  },
  {
   "cell_type": "code",
   "execution_count": 196,
   "id": "d0f4a4d3",
   "metadata": {},
   "outputs": [],
   "source": [
    "for df in df_list:\n",
    "    df.drop('Unnamed: 0',axis=1,inplace=True)"
   ]
  },
  {
   "cell_type": "code",
   "execution_count": 177,
   "id": "bb4ae8cf",
   "metadata": {},
   "outputs": [],
   "source": [
    "for df in df_list:\n",
    "    df['imgpath'] = df['repPhoto'].apply(lambda x: '' if x is np.NaN else eval(x)['photoid']['imgpath'])\n",
    "    df['thumbnailpath'] = df['repPhoto'].apply(lambda x: '' if x is np.NaN else eval(x)['photoid']['thumbnailpath'])"
   ]
  },
  {
   "cell_type": "code",
   "execution_count": 180,
   "id": "efe3ecf8",
   "metadata": {
    "scrolled": true
   },
   "outputs": [
    {
     "data": {
      "text/plain": [
       "Unnamed: 0                                                      1486\n",
       "alltag             바, LP, 칵테일, 혼술,공용주차장,화장실,무료 WIFI,와인, 맥주, 칵테일,어...\n",
       "contentsid                                      CNTS_200000000007139\n",
       "contentscd                                                       음식점\n",
       "title                                                            마틸다\n",
       "address                                      제주특별자치도 제주시 애월읍 고내리 841\n",
       "roadaddress                                  제주특별자치도 제주시 애월읍 고내1길 33\n",
       "tag                                 칵테일,맥주,커피,음식,진토닉칵테일,와인,아메리카노,에이드\n",
       "introduction       애월에 위치한 마틸다는 이곳에 방문하는 이들의 취향에 맞게 신청곡을 틀어주며, 술 ...\n",
       "readcnt                                                         1629\n",
       "likecnt                                                            0\n",
       "reviewcnt                                                          0\n",
       "markcnt                                                            2\n",
       "snssharecnt                                                        1\n",
       "schedulecnt                                                        0\n",
       "visitcnt                                                           0\n",
       "evelpt                                                           0.0\n",
       "latitude                                                   33.465631\n",
       "longitude                                                 126.334288\n",
       "phoneno                                                 064-799-3629\n",
       "sbst               애월 근린공원 인근에 위치한 마틸다는 이곳을 방문하는 이들의 취향에 맞게 신청곡을 ...\n",
       "repPhoto                                                         NaN\n",
       "PHOTOSHARECOUNT                                                  0.0\n",
       "cate1cd                                                          음식점\n",
       "cate2cd                                                           카페\n",
       "cate3cd                                                           카페\n",
       "imgpath                                                             \n",
       "thumbnailpath                                                       \n",
       "Name: 1486, dtype: object"
      ]
     },
     "execution_count": 180,
     "metadata": {},
     "output_type": "execute_result"
    }
   ],
   "source": [
    "jeju_food.loc[1486]"
   ]
  },
  {
   "cell_type": "code",
   "execution_count": 183,
   "id": "1765c228",
   "metadata": {},
   "outputs": [],
   "source": [
    "for df in df_list:\n",
    "    df.drop('repPhoto',axis=1,inplace=True)"
   ]
  },
  {
   "cell_type": "code",
   "execution_count": 187,
   "id": "630b8344",
   "metadata": {},
   "outputs": [],
   "source": [
    "for df in df_list:\n",
    "    df.drop('cate1cd',axis=1,inplace=True)"
   ]
  },
  {
   "cell_type": "code",
   "execution_count": 198,
   "id": "60543cbd",
   "metadata": {},
   "outputs": [],
   "source": [
    "jeju_food.to_csv('./jeju_food_modified.csv',encoding='utf-8',index=False)\n",
    "jeju_stay.to_csv('./jeju_stay_modified.csv',encoding='utf-8',index=False)\n",
    "jeju_stay.to_csv('./jeju_tour_places_modified.csv',encoding='ansi',index=False)"
   ]
  },
  {
   "cell_type": "code",
   "execution_count": 199,
   "id": "108ec1ef",
   "metadata": {},
   "outputs": [
    {
     "data": {
      "text/html": [
       "<div>\n",
       "<style scoped>\n",
       "    .dataframe tbody tr th:only-of-type {\n",
       "        vertical-align: middle;\n",
       "    }\n",
       "\n",
       "    .dataframe tbody tr th {\n",
       "        vertical-align: top;\n",
       "    }\n",
       "\n",
       "    .dataframe thead th {\n",
       "        text-align: right;\n",
       "    }\n",
       "</style>\n",
       "<table border=\"1\" class=\"dataframe\">\n",
       "  <thead>\n",
       "    <tr style=\"text-align: right;\">\n",
       "      <th></th>\n",
       "      <th>alltag</th>\n",
       "      <th>contentsid</th>\n",
       "      <th>contentscd</th>\n",
       "      <th>title</th>\n",
       "      <th>address</th>\n",
       "      <th>roadaddress</th>\n",
       "      <th>tag</th>\n",
       "      <th>introduction</th>\n",
       "      <th>readcnt</th>\n",
       "      <th>likecnt</th>\n",
       "      <th>...</th>\n",
       "      <th>evelpt</th>\n",
       "      <th>latitude</th>\n",
       "      <th>longitude</th>\n",
       "      <th>phoneno</th>\n",
       "      <th>sbst</th>\n",
       "      <th>PHOTOSHARECOUNT</th>\n",
       "      <th>cate2cd</th>\n",
       "      <th>cate3cd</th>\n",
       "      <th>imgpath</th>\n",
       "      <th>thumbnailpath</th>\n",
       "    </tr>\n",
       "  </thead>\n",
       "  <tbody>\n",
       "    <tr>\n",
       "      <th>0</th>\n",
       "      <td>숙소,공공와이파이존,주차장,호텔,안전여행스탬프</td>\n",
       "      <td>CNTS_200000000013411</td>\n",
       "      <td>숙박</td>\n",
       "      <td>하이제주호텔</td>\n",
       "      <td>제주특별자치도 제주시 한림읍 협재리 1165</td>\n",
       "      <td>제주특별자치도 제주시 한림읍 일주서로 5125</td>\n",
       "      <td>숙소,공공와이파이존,주차장,호텔,안전여행스탬프</td>\n",
       "      <td>바베큐, 수영장 등 다양한 부대시설이 갖춰져 있는 호텔</td>\n",
       "      <td>44</td>\n",
       "      <td>0</td>\n",
       "      <td>...</td>\n",
       "      <td>0.0</td>\n",
       "      <td>33.391717</td>\n",
       "      <td>126.253942</td>\n",
       "      <td>064-796-8000</td>\n",
       "      <td>http://hijejuhotel.com/index.php</td>\n",
       "      <td>0.0</td>\n",
       "      <td>관광호텔</td>\n",
       "      <td>관광호텔</td>\n",
       "      <td>https://api.cdn.visitjeju.net/photomng/imgpath...</td>\n",
       "      <td>https://api.cdn.visitjeju.net/photomng/thumbna...</td>\n",
       "    </tr>\n",
       "    <tr>\n",
       "      <th>1</th>\n",
       "      <td>호텔 ,공용주차장,현금결제,카드결제,화장실,무료 WIFI</td>\n",
       "      <td>CNTS_000000000021952</td>\n",
       "      <td>숙박</td>\n",
       "      <td>하워드존슨 제주 연동 호텔</td>\n",
       "      <td>제주특별자치도 제주시 연동 281-26</td>\n",
       "      <td>제주특별자치도 제주시 삼무로 57</td>\n",
       "      <td>호텔,숙소,공공와이파이존,양식레스토랑,주차장,비즈니스센터</td>\n",
       "      <td>제주국제공항 및 바오젠거리와 근접하여 접근성이 우수한 시내 비즈니스 호텔</td>\n",
       "      <td>5344</td>\n",
       "      <td>0</td>\n",
       "      <td>...</td>\n",
       "      <td>4.0</td>\n",
       "      <td>33.490020</td>\n",
       "      <td>126.492874</td>\n",
       "      <td>1811-1234</td>\n",
       "      <td>?\\r\\n\\r\\n하워드 존슨 제주 연동 호텔은 원덤사의 브랜드 체인 호텔로, \\r\\...</td>\n",
       "      <td>5.0</td>\n",
       "      <td>호텔</td>\n",
       "      <td>기타 호텔</td>\n",
       "      <td>https://api.cdn.visitjeju.net/photomng/imgpath...</td>\n",
       "      <td>https://api.cdn.visitjeju.net/photomng/thumbna...</td>\n",
       "    </tr>\n",
       "    <tr>\n",
       "      <th>2</th>\n",
       "      <td>5성급호텔,숙소,호텔,리조트,공공와이파이존,수영장,주차장,관광호텔,안전여행스탬프,공...</td>\n",
       "      <td>CNTS_200000000008956</td>\n",
       "      <td>숙박</td>\n",
       "      <td>신화관 제주신화월드 호텔 앤 리조트</td>\n",
       "      <td>제주특별자치도 서귀포시 안덕면 서광리 산 24 신화관 제주신화월드 호텔 앤 리조트</td>\n",
       "      <td>제주특별자치도 서귀포시 안덕면 신화역사로304번길 38 신화관 제주신화월드 호텔 앤...</td>\n",
       "      <td>5성급호텔,숙소,호텔,리조트,공공와이파이존,수영장,주차장,관광호텔,안전여행스탬프</td>\n",
       "      <td>제주만의 낭만 가득한 프리미엄 휴양 리조트, 신화(Shinhwa)</td>\n",
       "      <td>1838</td>\n",
       "      <td>0</td>\n",
       "      <td>...</td>\n",
       "      <td>5.0</td>\n",
       "      <td>33.301750</td>\n",
       "      <td>126.320646</td>\n",
       "      <td>1670-8800</td>\n",
       "      <td>새로운 경험을 선사하는 럭셔리 라이프스타일 리조트신화관은 신화테마파크, 신화워터파크...</td>\n",
       "      <td>0.0</td>\n",
       "      <td>호텔</td>\n",
       "      <td>특1급 호텔</td>\n",
       "      <td>https://api.cdn.visitjeju.net/photomng/imgpath...</td>\n",
       "      <td>https://api.cdn.visitjeju.net/photomng/thumbna...</td>\n",
       "    </tr>\n",
       "    <tr>\n",
       "      <th>3</th>\n",
       "      <td>호텔,공용주차장,현금결제,카드결제,화장실,무료 WIFI,유도 및 안내시설,수동 휠체...</td>\n",
       "      <td>CNTS_000000000022769</td>\n",
       "      <td>숙박</td>\n",
       "      <td>메리어트관 제주신화월드 호텔앤리조트</td>\n",
       "      <td>제주특별자치도 서귀포시 안덕면 서광리 산 24</td>\n",
       "      <td>제주특별자치도 서귀포시 안덕면 신화역사로304번길 38</td>\n",
       "      <td>5성급호텔,숙소,호텔,리조트,공공와이파이존,수영장,주차장,발렛파킹,관광호텔</td>\n",
       "      <td>글로벌 브랜드의 럭셔리 웰빙 리조트</td>\n",
       "      <td>4799</td>\n",
       "      <td>1</td>\n",
       "      <td>...</td>\n",
       "      <td>5.0</td>\n",
       "      <td>33.301750</td>\n",
       "      <td>126.320646</td>\n",
       "      <td>1670-8800</td>\n",
       "      <td>메리어트에서만 누릴 수 있는 프리미엄 서비스와 차별화된 혜택메리어트관은 제주신화월드...</td>\n",
       "      <td>NaN</td>\n",
       "      <td>호텔</td>\n",
       "      <td>특1급 호텔</td>\n",
       "      <td>https://api.cdn.visitjeju.net/photomng/imgpath...</td>\n",
       "      <td>https://api.cdn.visitjeju.net/photomng/thumbna...</td>\n",
       "    </tr>\n",
       "    <tr>\n",
       "      <th>4</th>\n",
       "      <td>호텔,공용주차장,현금결제,카드결제,화장실,무료 WIFI,흡연구역,유도 및 안내시설,...</td>\n",
       "      <td>CNTS_000000000022768</td>\n",
       "      <td>숙박</td>\n",
       "      <td>서머셋 제주신화월드 호텔앤리조트</td>\n",
       "      <td>제주특별자치도 서귀포시 안덕면 서광리 산 24-15</td>\n",
       "      <td>제주특별자치도 서귀포시 안덕면 신화역사로304번길 89</td>\n",
       "      <td>호텔,숙소,리조트,조식,수영장,힐링,제주신화월드 서머셋 리조트,4성급호텔</td>\n",
       "      <td>내 집같은 편안함, 서머셋 리조트.</td>\n",
       "      <td>4795</td>\n",
       "      <td>1</td>\n",
       "      <td>...</td>\n",
       "      <td>5.0</td>\n",
       "      <td>33.301750</td>\n",
       "      <td>126.320646</td>\n",
       "      <td>1670-8800</td>\n",
       "      <td>곶자왈 숲에 둘러쌓여 3대가 함께하는 럭셔리 패밀리 베케이션곶자왈 숲에 둘러싸인 제...</td>\n",
       "      <td>NaN</td>\n",
       "      <td>호텔</td>\n",
       "      <td>특1급 호텔</td>\n",
       "      <td>https://api.cdn.visitjeju.net/photomng/imgpath...</td>\n",
       "      <td>https://api.cdn.visitjeju.net/photomng/thumbna...</td>\n",
       "    </tr>\n",
       "    <tr>\n",
       "      <th>...</th>\n",
       "      <td>...</td>\n",
       "      <td>...</td>\n",
       "      <td>...</td>\n",
       "      <td>...</td>\n",
       "      <td>...</td>\n",
       "      <td>...</td>\n",
       "      <td>...</td>\n",
       "      <td>...</td>\n",
       "      <td>...</td>\n",
       "      <td>...</td>\n",
       "      <td>...</td>\n",
       "      <td>...</td>\n",
       "      <td>...</td>\n",
       "      <td>...</td>\n",
       "      <td>...</td>\n",
       "      <td>...</td>\n",
       "      <td>...</td>\n",
       "      <td>...</td>\n",
       "      <td>...</td>\n",
       "      <td>...</td>\n",
       "      <td>...</td>\n",
       "    </tr>\n",
       "    <tr>\n",
       "      <th>928</th>\n",
       "      <td>민박,공용주차장,현금결제,화장실,아주 어려움</td>\n",
       "      <td>CONT_000000000500881</td>\n",
       "      <td>숙박</td>\n",
       "      <td>민박바당집</td>\n",
       "      <td>제주특별자치도 제주시 한림읍 협재리 1708-1</td>\n",
       "      <td>제주특별자치도 제주시 한림읍 협재1길 12</td>\n",
       "      <td>민박,숙소,농어촌민박,휴양펜션,펜션,협재해수욕장,독채,바비큐,가족,온돌방,공공와이파...</td>\n",
       "      <td>협재 해수욕장과 맞닿은 시골 할머니집, 독채민박 바당집</td>\n",
       "      <td>2720</td>\n",
       "      <td>0</td>\n",
       "      <td>...</td>\n",
       "      <td>NaN</td>\n",
       "      <td>33.396575</td>\n",
       "      <td>126.242515</td>\n",
       "      <td>010 - 3639 - 6712</td>\n",
       "      <td>??일반가정집에서 느낄 수 있는 정취가 있다.\\r\\n</td>\n",
       "      <td>NaN</td>\n",
       "      <td>펜션/민박</td>\n",
       "      <td>민박</td>\n",
       "      <td>https://api.cdn.visitjeju.net/photomng/imgpath...</td>\n",
       "      <td>https://api.cdn.visitjeju.net/photomng/thumbna...</td>\n",
       "    </tr>\n",
       "    <tr>\n",
       "      <th>929</th>\n",
       "      <td>공용주차장,무료 WIFI</td>\n",
       "      <td>CNTS_000000000021680</td>\n",
       "      <td>숙박</td>\n",
       "      <td>리니민박(RINY)</td>\n",
       "      <td>제주특별자치도 서귀포시 표선면 성읍리 653-1</td>\n",
       "      <td>제주특별자치도 서귀포시 표선면 성읍민속로149번길 1</td>\n",
       "      <td>숙소,민박,농어촌민박,수영장,독채,고향민박</td>\n",
       "      <td>제주초가로 300평 대지에 안거리, 밖거리 독채, 전통가옥의 느낌과 이색적인 느낌을 함께</td>\n",
       "      <td>5758</td>\n",
       "      <td>3</td>\n",
       "      <td>...</td>\n",
       "      <td>NaN</td>\n",
       "      <td>33.390213</td>\n",
       "      <td>126.797840</td>\n",
       "      <td>NaN</td>\n",
       "      <td>??\\r\\n\\r\\n\\r\\n\\r\\n\\r\\n\\r\\n\\r\\n제주도 3현중 하나인 정의현에...</td>\n",
       "      <td>NaN</td>\n",
       "      <td>펜션/민박</td>\n",
       "      <td>민박</td>\n",
       "      <td>https://api.cdn.visitjeju.net/photomng/imgpath...</td>\n",
       "      <td>https://api.cdn.visitjeju.net/photomng/thumbna...</td>\n",
       "    </tr>\n",
       "    <tr>\n",
       "      <th>930</th>\n",
       "      <td>숙소,공공와이파이존,주차장,호텔,관광호텔,안전여행스탬프</td>\n",
       "      <td>CNTS_200000000013412</td>\n",
       "      <td>숙박</td>\n",
       "      <td>코쿤호텔</td>\n",
       "      <td>제주특별자치도 제주시 애월읍 신엄리 920</td>\n",
       "      <td>제주특별자치도 제주시 애월읍 중엄3길 50</td>\n",
       "      <td>숙소,공공와이파이존,주차장,호텔,관광호텔,안전여행스탬프</td>\n",
       "      <td>관광호텔로 객실이 30개를 보유하고 있으며 전 객실 바다전망 리모델링 완료.</td>\n",
       "      <td>63</td>\n",
       "      <td>0</td>\n",
       "      <td>...</td>\n",
       "      <td>0.0</td>\n",
       "      <td>33.478000</td>\n",
       "      <td>126.371695</td>\n",
       "      <td>NaN</td>\n",
       "      <td>NaN</td>\n",
       "      <td>0.0</td>\n",
       "      <td>관광호텔</td>\n",
       "      <td>관광호텔</td>\n",
       "      <td>https://api.cdn.visitjeju.net/photomng/imgpath...</td>\n",
       "      <td>https://api.cdn.visitjeju.net/photomng/thumbna...</td>\n",
       "    </tr>\n",
       "    <tr>\n",
       "      <th>931</th>\n",
       "      <td>숙소,공공와이파이존,주차장,호텔,안전여행스탬프</td>\n",
       "      <td>CNTS_200000000013415</td>\n",
       "      <td>숙박</td>\n",
       "      <td>코업시티호텔성산</td>\n",
       "      <td>제주특별자치도 서귀포시 성산읍 성산리 250</td>\n",
       "      <td>제주특별자치도 서귀포시 성산읍 성산등용로 28</td>\n",
       "      <td>숙소,공공와이파이존,주차장,호텔,안전여행스탬프</td>\n",
       "      <td>성산일출봉과 오름을 조망할 수 있는 호텔</td>\n",
       "      <td>132</td>\n",
       "      <td>0</td>\n",
       "      <td>...</td>\n",
       "      <td>0.0</td>\n",
       "      <td>33.465960</td>\n",
       "      <td>126.931962</td>\n",
       "      <td>NaN</td>\n",
       "      <td>NaN</td>\n",
       "      <td>0.0</td>\n",
       "      <td>관광호텔</td>\n",
       "      <td>관광호텔</td>\n",
       "      <td>https://api.cdn.visitjeju.net/photomng/imgpath...</td>\n",
       "      <td>https://api.cdn.visitjeju.net/photomng/thumbna...</td>\n",
       "    </tr>\n",
       "    <tr>\n",
       "      <th>932</th>\n",
       "      <td>숙소,공공와이파이존,주차장,호텔,가족호텔,안전여행스탬프</td>\n",
       "      <td>CNTS_200000000013410</td>\n",
       "      <td>숙박</td>\n",
       "      <td>올레리조트</td>\n",
       "      <td>제주특별자치도 제주시 애월읍 신엄리 2867-3</td>\n",
       "      <td>제주특별자치도 제주시 애월읍 부룡수길 33</td>\n",
       "      <td>숙소,공공와이파이존,주차장,호텔,가족호텔,안전여행스탬프</td>\n",
       "      <td>오래오래 머물고 싶은 리조트 올레리조트</td>\n",
       "      <td>79</td>\n",
       "      <td>0</td>\n",
       "      <td>...</td>\n",
       "      <td>0.0</td>\n",
       "      <td>33.475694</td>\n",
       "      <td>126.355849</td>\n",
       "      <td>NaN</td>\n",
       "      <td>NaN</td>\n",
       "      <td>0.0</td>\n",
       "      <td>리조트</td>\n",
       "      <td>리조트</td>\n",
       "      <td>https://api.cdn.visitjeju.net/photomng/imgpath...</td>\n",
       "      <td>https://api.cdn.visitjeju.net/photomng/thumbna...</td>\n",
       "    </tr>\n",
       "  </tbody>\n",
       "</table>\n",
       "<p>933 rows × 25 columns</p>\n",
       "</div>"
      ],
      "text/plain": [
       "                                                alltag            contentsid  \\\n",
       "0                            숙소,공공와이파이존,주차장,호텔,안전여행스탬프  CNTS_200000000013411   \n",
       "1                      호텔 ,공용주차장,현금결제,카드결제,화장실,무료 WIFI  CNTS_000000000021952   \n",
       "2    5성급호텔,숙소,호텔,리조트,공공와이파이존,수영장,주차장,관광호텔,안전여행스탬프,공...  CNTS_200000000008956   \n",
       "3    호텔,공용주차장,현금결제,카드결제,화장실,무료 WIFI,유도 및 안내시설,수동 휠체...  CNTS_000000000022769   \n",
       "4    호텔,공용주차장,현금결제,카드결제,화장실,무료 WIFI,흡연구역,유도 및 안내시설,...  CNTS_000000000022768   \n",
       "..                                                 ...                   ...   \n",
       "928                           민박,공용주차장,현금결제,화장실,아주 어려움  CONT_000000000500881   \n",
       "929                                      공용주차장,무료 WIFI  CNTS_000000000021680   \n",
       "930                     숙소,공공와이파이존,주차장,호텔,관광호텔,안전여행스탬프  CNTS_200000000013412   \n",
       "931                          숙소,공공와이파이존,주차장,호텔,안전여행스탬프  CNTS_200000000013415   \n",
       "932                     숙소,공공와이파이존,주차장,호텔,가족호텔,안전여행스탬프  CNTS_200000000013410   \n",
       "\n",
       "    contentscd                 title  \\\n",
       "0           숙박                하이제주호텔   \n",
       "1           숙박        하워드존슨 제주 연동 호텔   \n",
       "2           숙박   신화관 제주신화월드 호텔 앤 리조트   \n",
       "3           숙박   메리어트관 제주신화월드 호텔앤리조트   \n",
       "4           숙박     서머셋 제주신화월드 호텔앤리조트   \n",
       "..         ...                   ...   \n",
       "928         숙박                 민박바당집   \n",
       "929         숙박            리니민박(RINY)   \n",
       "930         숙박                  코쿤호텔   \n",
       "931         숙박              코업시티호텔성산   \n",
       "932         숙박                 올레리조트   \n",
       "\n",
       "                                           address  \\\n",
       "0                         제주특별자치도 제주시 한림읍 협재리 1165   \n",
       "1                            제주특별자치도 제주시 연동 281-26   \n",
       "2    제주특별자치도 서귀포시 안덕면 서광리 산 24 신화관 제주신화월드 호텔 앤 리조트   \n",
       "3                        제주특별자치도 서귀포시 안덕면 서광리 산 24   \n",
       "4                     제주특별자치도 서귀포시 안덕면 서광리 산 24-15   \n",
       "..                                             ...   \n",
       "928                     제주특별자치도 제주시 한림읍 협재리 1708-1   \n",
       "929                     제주특별자치도 서귀포시 표선면 성읍리 653-1   \n",
       "930                        제주특별자치도 제주시 애월읍 신엄리 920   \n",
       "931                       제주특별자치도 서귀포시 성산읍 성산리 250   \n",
       "932                     제주특별자치도 제주시 애월읍 신엄리 2867-3   \n",
       "\n",
       "                                           roadaddress  \\\n",
       "0                            제주특별자치도 제주시 한림읍 일주서로 5125   \n",
       "1                                   제주특별자치도 제주시 삼무로 57   \n",
       "2    제주특별자치도 서귀포시 안덕면 신화역사로304번길 38 신화관 제주신화월드 호텔 앤...   \n",
       "3                       제주특별자치도 서귀포시 안덕면 신화역사로304번길 38   \n",
       "4                       제주특별자치도 서귀포시 안덕면 신화역사로304번길 89   \n",
       "..                                                 ...   \n",
       "928                            제주특별자치도 제주시 한림읍 협재1길 12   \n",
       "929                      제주특별자치도 서귀포시 표선면 성읍민속로149번길 1   \n",
       "930                            제주특별자치도 제주시 애월읍 중엄3길 50   \n",
       "931                          제주특별자치도 서귀포시 성산읍 성산등용로 28   \n",
       "932                            제주특별자치도 제주시 애월읍 부룡수길 33   \n",
       "\n",
       "                                                   tag  \\\n",
       "0                            숙소,공공와이파이존,주차장,호텔,안전여행스탬프   \n",
       "1                      호텔,숙소,공공와이파이존,양식레스토랑,주차장,비즈니스센터   \n",
       "2         5성급호텔,숙소,호텔,리조트,공공와이파이존,수영장,주차장,관광호텔,안전여행스탬프   \n",
       "3            5성급호텔,숙소,호텔,리조트,공공와이파이존,수영장,주차장,발렛파킹,관광호텔   \n",
       "4             호텔,숙소,리조트,조식,수영장,힐링,제주신화월드 서머셋 리조트,4성급호텔   \n",
       "..                                                 ...   \n",
       "928  민박,숙소,농어촌민박,휴양펜션,펜션,협재해수욕장,독채,바비큐,가족,온돌방,공공와이파...   \n",
       "929                            숙소,민박,농어촌민박,수영장,독채,고향민박   \n",
       "930                     숙소,공공와이파이존,주차장,호텔,관광호텔,안전여행스탬프   \n",
       "931                          숙소,공공와이파이존,주차장,호텔,안전여행스탬프   \n",
       "932                     숙소,공공와이파이존,주차장,호텔,가족호텔,안전여행스탬프   \n",
       "\n",
       "                                          introduction  readcnt  likecnt  ...  \\\n",
       "0                       바베큐, 수영장 등 다양한 부대시설이 갖춰져 있는 호텔       44        0  ...   \n",
       "1             제주국제공항 및 바오젠거리와 근접하여 접근성이 우수한 시내 비즈니스 호텔     5344        0  ...   \n",
       "2                 제주만의 낭만 가득한 프리미엄 휴양 리조트, 신화(Shinhwa)     1838        0  ...   \n",
       "3                                  글로벌 브랜드의 럭셔리 웰빙 리조트     4799        1  ...   \n",
       "4                                  내 집같은 편안함, 서머셋 리조트.     4795        1  ...   \n",
       "..                                                 ...      ...      ...  ...   \n",
       "928                     협재 해수욕장과 맞닿은 시골 할머니집, 독채민박 바당집     2720        0  ...   \n",
       "929  제주초가로 300평 대지에 안거리, 밖거리 독채, 전통가옥의 느낌과 이색적인 느낌을 함께     5758        3  ...   \n",
       "930         관광호텔로 객실이 30개를 보유하고 있으며 전 객실 바다전망 리모델링 완료.       63        0  ...   \n",
       "931                             성산일출봉과 오름을 조망할 수 있는 호텔      132        0  ...   \n",
       "932                              오래오래 머물고 싶은 리조트 올레리조트       79        0  ...   \n",
       "\n",
       "     evelpt   latitude   longitude            phoneno  \\\n",
       "0       0.0  33.391717  126.253942       064-796-8000   \n",
       "1       4.0  33.490020  126.492874          1811-1234   \n",
       "2       5.0  33.301750  126.320646          1670-8800   \n",
       "3       5.0  33.301750  126.320646          1670-8800   \n",
       "4       5.0  33.301750  126.320646          1670-8800   \n",
       "..      ...        ...         ...                ...   \n",
       "928     NaN  33.396575  126.242515  010 - 3639 - 6712   \n",
       "929     NaN  33.390213  126.797840                NaN   \n",
       "930     0.0  33.478000  126.371695                NaN   \n",
       "931     0.0  33.465960  126.931962                NaN   \n",
       "932     0.0  33.475694  126.355849                NaN   \n",
       "\n",
       "                                                  sbst  PHOTOSHARECOUNT  \\\n",
       "0                     http://hijejuhotel.com/index.php              0.0   \n",
       "1    ?\\r\\n\\r\\n하워드 존슨 제주 연동 호텔은 원덤사의 브랜드 체인 호텔로, \\r\\...              5.0   \n",
       "2    새로운 경험을 선사하는 럭셔리 라이프스타일 리조트신화관은 신화테마파크, 신화워터파크...              0.0   \n",
       "3    메리어트에서만 누릴 수 있는 프리미엄 서비스와 차별화된 혜택메리어트관은 제주신화월드...              NaN   \n",
       "4    곶자왈 숲에 둘러쌓여 3대가 함께하는 럭셔리 패밀리 베케이션곶자왈 숲에 둘러싸인 제...              NaN   \n",
       "..                                                 ...              ...   \n",
       "928                      ??일반가정집에서 느낄 수 있는 정취가 있다.\\r\\n              NaN   \n",
       "929  ??\\r\\n\\r\\n\\r\\n\\r\\n\\r\\n\\r\\n\\r\\n제주도 3현중 하나인 정의현에...              NaN   \n",
       "930                                                NaN              0.0   \n",
       "931                                                NaN              0.0   \n",
       "932                                                NaN              0.0   \n",
       "\n",
       "     cate2cd  cate3cd                                            imgpath  \\\n",
       "0       관광호텔     관광호텔  https://api.cdn.visitjeju.net/photomng/imgpath...   \n",
       "1         호텔    기타 호텔  https://api.cdn.visitjeju.net/photomng/imgpath...   \n",
       "2         호텔   특1급 호텔  https://api.cdn.visitjeju.net/photomng/imgpath...   \n",
       "3         호텔   특1급 호텔  https://api.cdn.visitjeju.net/photomng/imgpath...   \n",
       "4         호텔   특1급 호텔  https://api.cdn.visitjeju.net/photomng/imgpath...   \n",
       "..       ...      ...                                                ...   \n",
       "928    펜션/민박       민박  https://api.cdn.visitjeju.net/photomng/imgpath...   \n",
       "929    펜션/민박       민박  https://api.cdn.visitjeju.net/photomng/imgpath...   \n",
       "930     관광호텔     관광호텔  https://api.cdn.visitjeju.net/photomng/imgpath...   \n",
       "931     관광호텔     관광호텔  https://api.cdn.visitjeju.net/photomng/imgpath...   \n",
       "932      리조트      리조트  https://api.cdn.visitjeju.net/photomng/imgpath...   \n",
       "\n",
       "                                         thumbnailpath  \n",
       "0    https://api.cdn.visitjeju.net/photomng/thumbna...  \n",
       "1    https://api.cdn.visitjeju.net/photomng/thumbna...  \n",
       "2    https://api.cdn.visitjeju.net/photomng/thumbna...  \n",
       "3    https://api.cdn.visitjeju.net/photomng/thumbna...  \n",
       "4    https://api.cdn.visitjeju.net/photomng/thumbna...  \n",
       "..                                                 ...  \n",
       "928  https://api.cdn.visitjeju.net/photomng/thumbna...  \n",
       "929  https://api.cdn.visitjeju.net/photomng/thumbna...  \n",
       "930  https://api.cdn.visitjeju.net/photomng/thumbna...  \n",
       "931  https://api.cdn.visitjeju.net/photomng/thumbna...  \n",
       "932  https://api.cdn.visitjeju.net/photomng/thumbna...  \n",
       "\n",
       "[933 rows x 25 columns]"
      ]
     },
     "execution_count": 199,
     "metadata": {},
     "output_type": "execute_result"
    }
   ],
   "source": [
    "pd.read_csv('./jeju_stay_modified.csv')"
   ]
  }
 ],
 "metadata": {
  "kernelspec": {
   "display_name": "Python 3 (ipykernel)",
   "language": "python",
   "name": "python3"
  },
  "language_info": {
   "codemirror_mode": {
    "name": "ipython",
    "version": 3
   },
   "file_extension": ".py",
   "mimetype": "text/x-python",
   "name": "python",
   "nbconvert_exporter": "python",
   "pygments_lexer": "ipython3",
   "version": "3.8.13"
  }
 },
 "nbformat": 4,
 "nbformat_minor": 5
}
