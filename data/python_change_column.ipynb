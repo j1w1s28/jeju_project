{
 "cells": [
  {
   "cell_type": "code",
   "execution_count": 7,
   "id": "d0fc8184",
   "metadata": {},
   "outputs": [],
   "source": [
    "import pandas as pd\n",
    "import numpy as np"
   ]
  },
  {
   "cell_type": "code",
   "execution_count": 8,
   "id": "250c49dc",
   "metadata": {},
   "outputs": [],
   "source": [
    "jeju_tour_places=pd.read_csv('./jeju_tour_places.csv',encoding='ansi')\n",
    "jeju_stay = pd.read_csv('./jeju_stay.csv',encoding='ansi')\n",
    "jeju_food = pd.read_csv('./jeju_food.csv',encoding='ansi')"
   ]
  },
  {
   "cell_type": "code",
   "execution_count": 9,
   "id": "5ded978d",
   "metadata": {},
   "outputs": [
    {
     "data": {
      "text/plain": [
       "((1103, 31), (1642, 31), (933, 31))"
      ]
     },
     "execution_count": 9,
     "metadata": {},
     "output_type": "execute_result"
    }
   ],
   "source": [
    "jeju_tour_places.shape,jeju_food.shape,jeju_stay.shape"
   ]
  },
  {
   "cell_type": "code",
   "execution_count": 10,
   "id": "66376323",
   "metadata": {
    "scrolled": false
   },
   "outputs": [],
   "source": [
    "df_list = [jeju_tour_places,jeju_food,jeju_stay]"
   ]
  },
  {
   "cell_type": "code",
   "execution_count": 11,
   "id": "539dda96",
   "metadata": {},
   "outputs": [],
   "source": [
    "drop_list = ['region1cd','region2cd','postcode','created','changed','festivalcontents','reservelink']"
   ]
  },
  {
   "cell_type": "code",
   "execution_count": 12,
   "id": "4a6d07ce",
   "metadata": {},
   "outputs": [],
   "source": [
    "for df in df_list:\n",
    "    df.drop(drop_list,axis=1,inplace=True)"
   ]
  },
  {
   "cell_type": "code",
   "execution_count": 13,
   "id": "368db450",
   "metadata": {},
   "outputs": [
    {
     "data": {
      "text/plain": [
       "'음식점'"
      ]
     },
     "execution_count": 13,
     "metadata": {},
     "output_type": "execute_result"
    }
   ],
   "source": [
    "eval(jeju_food['contentscd'][0])['label']"
   ]
  },
  {
   "cell_type": "code",
   "execution_count": 14,
   "id": "a2eeb999",
   "metadata": {},
   "outputs": [
    {
     "data": {
      "text/plain": [
       "0       음식점\n",
       "1       음식점\n",
       "2       음식점\n",
       "3       음식점\n",
       "4       음식점\n",
       "       ... \n",
       "1637    음식점\n",
       "1638    음식점\n",
       "1639    음식점\n",
       "1640    음식점\n",
       "1641    관광지\n",
       "Name: contentscd, Length: 1642, dtype: object"
      ]
     },
     "execution_count": 14,
     "metadata": {},
     "output_type": "execute_result"
    }
   ],
   "source": [
    "jeju_food['contentscd'].apply(lambda x: eval(x)['label'] )"
   ]
  },
  {
   "cell_type": "code",
   "execution_count": 15,
   "id": "7ee3e3e8",
   "metadata": {},
   "outputs": [],
   "source": [
    "for df in df_list:\n",
    "    df['contentscd']= df['contentscd'].apply(lambda x: eval(x)['label'])"
   ]
  },
  {
   "cell_type": "code",
   "execution_count": 16,
   "id": "d673d1fc",
   "metadata": {
    "scrolled": true
   },
   "outputs": [
    {
     "data": {
      "text/plain": [
       "'음식점'"
      ]
     },
     "execution_count": 16,
     "metadata": {},
     "output_type": "execute_result"
    }
   ],
   "source": [
    "eval(jeju_food['catemappList'][0])[0]['cate1cd']['label']"
   ]
  },
  {
   "cell_type": "code",
   "execution_count": 17,
   "id": "8b0240ff",
   "metadata": {},
   "outputs": [
    {
     "data": {
      "text/plain": [
       "'한식'"
      ]
     },
     "execution_count": 17,
     "metadata": {},
     "output_type": "execute_result"
    }
   ],
   "source": [
    "eval(jeju_food['catemappList'][0])[0]['cate2cd']['label']"
   ]
  },
  {
   "cell_type": "code",
   "execution_count": 18,
   "id": "ba276423",
   "metadata": {},
   "outputs": [
    {
     "data": {
      "text/plain": [
       "'한식'"
      ]
     },
     "execution_count": 18,
     "metadata": {},
     "output_type": "execute_result"
    }
   ],
   "source": [
    "eval(jeju_food['catemappList'][0])[0]['cate3cd']['label']"
   ]
  },
  {
   "cell_type": "code",
   "execution_count": 19,
   "id": "8e151497",
   "metadata": {},
   "outputs": [
    {
     "data": {
      "text/plain": [
       "{'seq': 25376,\n",
       " 'contentsid': {'value': 'CNTS_200000000011381',\n",
       "  'label': '카페 8',\n",
       "  'refId': 'CNTS_200000000011381'},\n",
       " 'cate1cd': {'value': 'cate0000000005',\n",
       "  'label': '음식점',\n",
       "  'refId': 'contscate>cate0000000005'},\n",
       " 'cate2cd': {'value': 'cate0000001267',\n",
       "  'label': '양식',\n",
       "  'refId': 'cate0000000005>cate0000001267'},\n",
       " 'cate3cd': {'value': 'cate0000001311',\n",
       "  'label': '양식',\n",
       "  'refId': 'cate0000001267>cate0000001311'},\n",
       " 'created': '20210420160506'}"
      ]
     },
     "execution_count": 19,
     "metadata": {},
     "output_type": "execute_result"
    }
   ],
   "source": [
    "eval(jeju_food['catemappList'][1222])[0]"
   ]
  },
  {
   "cell_type": "code",
   "execution_count": 20,
   "id": "9ce19672",
   "metadata": {},
   "outputs": [],
   "source": [
    "for df in df_list:\n",
    "    df['cate1cd']= df['catemappList'].apply(lambda x: eval(x)[0]['cate1cd']['label'])\n",
    "    df['cate2cd']= df['catemappList'].apply(lambda x: eval(x)[0]['cate2cd']['label'])\n",
    "    df['cate3cd']= df['catemappList'].apply(lambda x: eval(x)[0]['cate3cd']['label'])"
   ]
  },
  {
   "cell_type": "code",
   "execution_count": 21,
   "id": "d90d2715",
   "metadata": {},
   "outputs": [],
   "source": [
    "for df in df_list:\n",
    "    df.drop('catemappList',axis=1,inplace=True)"
   ]
  },
  {
   "cell_type": "code",
   "execution_count": 22,
   "id": "d0f4a4d3",
   "metadata": {},
   "outputs": [],
   "source": [
    "for df in df_list:\n",
    "    df.drop('Unnamed: 0',axis=1,inplace=True)"
   ]
  },
  {
   "cell_type": "code",
   "execution_count": 23,
   "id": "bb4ae8cf",
   "metadata": {},
   "outputs": [],
   "source": [
    "for df in df_list:\n",
    "    df['imgpath'] = df['repPhoto'].apply(lambda x: '' if x is np.NaN else eval(x)['photoid']['imgpath'])\n",
    "    df['thumbnailpath'] = df['repPhoto'].apply(lambda x: '' if x is np.NaN else eval(x)['photoid']['thumbnailpath'])"
   ]
  },
  {
   "cell_type": "code",
   "execution_count": 24,
   "id": "efe3ecf8",
   "metadata": {
    "scrolled": true
   },
   "outputs": [
    {
     "data": {
      "text/plain": [
       "alltag             바, LP, 칵테일, 혼술,공용주차장,화장실,무료 WIFI,와인, 맥주, 칵테일,어...\n",
       "contentsid                                      CNTS_200000000007139\n",
       "contentscd                                                       음식점\n",
       "title                                                            마틸다\n",
       "address                                      제주특별자치도 제주시 애월읍 고내리 841\n",
       "roadaddress                                  제주특별자치도 제주시 애월읍 고내1길 33\n",
       "tag                                 칵테일,맥주,커피,음식,진토닉칵테일,와인,아메리카노,에이드\n",
       "introduction       애월에 위치한 마틸다는 이곳에 방문하는 이들의 취향에 맞게 신청곡을 틀어주며, 술 ...\n",
       "readcnt                                                         1629\n",
       "likecnt                                                            0\n",
       "reviewcnt                                                          0\n",
       "markcnt                                                            2\n",
       "snssharecnt                                                        1\n",
       "schedulecnt                                                        0\n",
       "visitcnt                                                           0\n",
       "evelpt                                                           0.0\n",
       "latitude                                                   33.465631\n",
       "longitude                                                 126.334288\n",
       "phoneno                                                 064-799-3629\n",
       "sbst               애월 근린공원 인근에 위치한 마틸다는 이곳을 방문하는 이들의 취향에 맞게 신청곡을 ...\n",
       "repPhoto                                                         NaN\n",
       "PHOTOSHARECOUNT                                                  0.0\n",
       "cate1cd                                                          음식점\n",
       "cate2cd                                                           카페\n",
       "cate3cd                                                           카페\n",
       "imgpath                                                             \n",
       "thumbnailpath                                                       \n",
       "Name: 1486, dtype: object"
      ]
     },
     "execution_count": 24,
     "metadata": {},
     "output_type": "execute_result"
    }
   ],
   "source": [
    "jeju_food.loc[1486]"
   ]
  },
  {
   "cell_type": "code",
   "execution_count": 25,
   "id": "1765c228",
   "metadata": {},
   "outputs": [],
   "source": [
    "for df in df_list:\n",
    "    df.drop('repPhoto',axis=1,inplace=True)"
   ]
  },
  {
   "cell_type": "code",
   "execution_count": 26,
   "id": "630b8344",
   "metadata": {},
   "outputs": [],
   "source": [
    "for df in df_list:\n",
    "    df.drop('cate1cd',axis=1,inplace=True)"
   ]
  },
  {
   "cell_type": "code",
   "execution_count": 32,
   "id": "60543cbd",
   "metadata": {},
   "outputs": [],
   "source": [
    "jeju_food.to_csv('./jeju_food_modified.csv',encoding='utf-8',index=False)\n",
    "jeju_stay.to_csv('./jeju_stay_modified.csv',encoding='utf-8',index=False)\n",
    "jeju_tour_places.to_csv('./jeju_tour_places_modified.csv',encoding='utf-8',index=False)"
   ]
  },
  {
   "cell_type": "code",
   "execution_count": 33,
   "id": "108ec1ef",
   "metadata": {},
   "outputs": [
    {
     "data": {
      "text/html": [
       "<div>\n",
       "<style scoped>\n",
       "    .dataframe tbody tr th:only-of-type {\n",
       "        vertical-align: middle;\n",
       "    }\n",
       "\n",
       "    .dataframe tbody tr th {\n",
       "        vertical-align: top;\n",
       "    }\n",
       "\n",
       "    .dataframe thead th {\n",
       "        text-align: right;\n",
       "    }\n",
       "</style>\n",
       "<table border=\"1\" class=\"dataframe\">\n",
       "  <thead>\n",
       "    <tr style=\"text-align: right;\">\n",
       "      <th></th>\n",
       "      <th>alltag</th>\n",
       "      <th>contentsid</th>\n",
       "      <th>contentscd</th>\n",
       "      <th>title</th>\n",
       "      <th>address</th>\n",
       "      <th>roadaddress</th>\n",
       "      <th>tag</th>\n",
       "      <th>introduction</th>\n",
       "      <th>readcnt</th>\n",
       "      <th>likecnt</th>\n",
       "      <th>...</th>\n",
       "      <th>evelpt</th>\n",
       "      <th>latitude</th>\n",
       "      <th>longitude</th>\n",
       "      <th>phoneno</th>\n",
       "      <th>sbst</th>\n",
       "      <th>PHOTOSHARECOUNT</th>\n",
       "      <th>cate2cd</th>\n",
       "      <th>cate3cd</th>\n",
       "      <th>imgpath</th>\n",
       "      <th>thumbnailpath</th>\n",
       "    </tr>\n",
       "  </thead>\n",
       "  <tbody>\n",
       "    <tr>\n",
       "      <th>0</th>\n",
       "      <td>휴식/힐링,체험관광,액티비티,사계절</td>\n",
       "      <td>CNTS_200000000012469</td>\n",
       "      <td>관광지</td>\n",
       "      <td>제로스테이션(제로포인트트레일)</td>\n",
       "      <td>제주특별자치도 제주시 건입동 1136 2층</td>\n",
       "      <td>제주특별자치도 제주시 산지로 25 2층</td>\n",
       "      <td>휴식/힐링,체험관광,액티비티,사계절,체험,레저/체험,어트랙션</td>\n",
       "      <td>제로스테이션은 산지천에 위치한 카페이자 길과 여행을 사랑하는 사람들을 위한 공간이다...</td>\n",
       "      <td>530</td>\n",
       "      <td>0</td>\n",
       "      <td>...</td>\n",
       "      <td>0.0</td>\n",
       "      <td>33.514733</td>\n",
       "      <td>126.529280</td>\n",
       "      <td>064-702-1947</td>\n",
       "      <td>트레킹 프로그램과 관련해 사전 상담과 당일 모니터링, 완주 인증 기록 게시 등 다양...</td>\n",
       "      <td>0.0</td>\n",
       "      <td>레저/체험</td>\n",
       "      <td>그외</td>\n",
       "      <td>https://api.cdn.visitjeju.net/photomng/imgpath...</td>\n",
       "      <td>https://api.cdn.visitjeju.net/photomng/thumbna...</td>\n",
       "    </tr>\n",
       "    <tr>\n",
       "      <th>1</th>\n",
       "      <td>부모,커플,친구,경관/포토,휴식/힐링,테마공원,오름,사계절,청년,중/장년,휴식/치유...</td>\n",
       "      <td>CNTS_200000000009501</td>\n",
       "      <td>관광지</td>\n",
       "      <td>궁대오름(궁대악)</td>\n",
       "      <td>제주특별자치도 서귀포시 성산읍 수산리 4711-1</td>\n",
       "      <td>제주특별자치도 서귀포시 성산읍 금백조로 446</td>\n",
       "      <td>부모,커플,친구,경관/포토,휴식/힐링,테마공원,오름,사계절,청년,중/장년,휴식/치유...</td>\n",
       "      <td>오름의 모양새가 마치 활처럼 생기고, 오름 허리에 활(궁·弓)자 모양의 띠가 둘러져...</td>\n",
       "      <td>1723</td>\n",
       "      <td>0</td>\n",
       "      <td>...</td>\n",
       "      <td>0.0</td>\n",
       "      <td>33.440562</td>\n",
       "      <td>126.822089</td>\n",
       "      <td>064-787-4711</td>\n",
       "      <td>오름의 모양새가 마치 활처럼 생기고, 오름 허리에 활(궁·弓)자 모양의 띠가 둘러져...</td>\n",
       "      <td>0.0</td>\n",
       "      <td>자연</td>\n",
       "      <td>오름</td>\n",
       "      <td>https://api.cdn.visitjeju.net/photomng/imgpath...</td>\n",
       "      <td>https://api.cdn.visitjeju.net/photomng/thumbna...</td>\n",
       "    </tr>\n",
       "    <tr>\n",
       "      <th>2</th>\n",
       "      <td>커플,부모,혼자,친구,아이,맑음,흐림,비.눈,경관/포토,휴식/힐링,미술/박물관,사계...</td>\n",
       "      <td>CNTS_200000000012075</td>\n",
       "      <td>관광지</td>\n",
       "      <td>헌마공신김만일기념관</td>\n",
       "      <td>서귀포시 남원읍 서성로 919</td>\n",
       "      <td>서귀포시 남원읍 서성로 919</td>\n",
       "      <td>커플,부모,혼자,친구,아이,맑음,흐림,비.눈,경관/포토,휴식/힐링,미술/박물관,사계...</td>\n",
       "      <td>임진왜란 당시 전쟁에 사용할 말 500마리를 헌납하면서 국난극복에 기여한 김만일(1...</td>\n",
       "      <td>323</td>\n",
       "      <td>2</td>\n",
       "      <td>...</td>\n",
       "      <td>0.0</td>\n",
       "      <td>NaN</td>\n",
       "      <td>NaN</td>\n",
       "      <td>064-805-9801</td>\n",
       "      <td>NaN</td>\n",
       "      <td>0.0</td>\n",
       "      <td>문화관광</td>\n",
       "      <td>전시관</td>\n",
       "      <td>https://api.cdn.visitjeju.net/photomng/imgpath...</td>\n",
       "      <td>https://api.cdn.visitjeju.net/photomng/thumbna...</td>\n",
       "    </tr>\n",
       "    <tr>\n",
       "      <th>3</th>\n",
       "      <td>관광지</td>\n",
       "      <td>CNTS_200000000013590</td>\n",
       "      <td>관광지</td>\n",
       "      <td>본초족욕</td>\n",
       "      <td>제주특별자치도 제주시 연동 1326</td>\n",
       "      <td>제주특별자치도 제주시 은수길 65</td>\n",
       "      <td>관광지,안전여행스탬프,experience</td>\n",
       "      <td>천연 족욕 테라피를 즐기면서 심신의 피로를 확 날려버릴 수 있는 곳</td>\n",
       "      <td>40</td>\n",
       "      <td>1</td>\n",
       "      <td>...</td>\n",
       "      <td>0.0</td>\n",
       "      <td>33.471491</td>\n",
       "      <td>126.488172</td>\n",
       "      <td>010249938913</td>\n",
       "      <td>NaN</td>\n",
       "      <td>0.0</td>\n",
       "      <td>레저/체험</td>\n",
       "      <td>그외</td>\n",
       "      <td>https://api.cdn.visitjeju.net/photomng/imgpath...</td>\n",
       "      <td>https://api.cdn.visitjeju.net/photomng/thumbna...</td>\n",
       "    </tr>\n",
       "    <tr>\n",
       "      <th>4</th>\n",
       "      <td>실내,문화유적지,가을,문화관광,역사유적,어트랙션,공용주차장,어려움</td>\n",
       "      <td>CNTS_000000000021292</td>\n",
       "      <td>관광지</td>\n",
       "      <td>강병대교회</td>\n",
       "      <td>제주특별자치도 서귀포시 대정읍 상모리 3846</td>\n",
       "      <td>제주특별자치도 서귀포시 대정읍 상모대서로 43-3</td>\n",
       "      <td>실내,문화유적지,가을,문화관광,역사유적,어트랙션</td>\n",
       "      <td>우리나라에서 가장 오래된 군인 교회</td>\n",
       "      <td>2839</td>\n",
       "      <td>0</td>\n",
       "      <td>...</td>\n",
       "      <td>NaN</td>\n",
       "      <td>33.226520</td>\n",
       "      <td>126.257220</td>\n",
       "      <td>070-7790-3860</td>\n",
       "      <td>건립 당시의 원형이 절반 이상 남아있는 생생한 역사의 흔적\\r\\n서귀포시 대정읍에 ...</td>\n",
       "      <td>NaN</td>\n",
       "      <td>문화관광</td>\n",
       "      <td>문화재</td>\n",
       "      <td>https://api.cdn.visitjeju.net/photomng/imgpath...</td>\n",
       "      <td>https://api.cdn.visitjeju.net/photomng/thumbna...</td>\n",
       "    </tr>\n",
       "    <tr>\n",
       "      <th>...</th>\n",
       "      <td>...</td>\n",
       "      <td>...</td>\n",
       "      <td>...</td>\n",
       "      <td>...</td>\n",
       "      <td>...</td>\n",
       "      <td>...</td>\n",
       "      <td>...</td>\n",
       "      <td>...</td>\n",
       "      <td>...</td>\n",
       "      <td>...</td>\n",
       "      <td>...</td>\n",
       "      <td>...</td>\n",
       "      <td>...</td>\n",
       "      <td>...</td>\n",
       "      <td>...</td>\n",
       "      <td>...</td>\n",
       "      <td>...</td>\n",
       "      <td>...</td>\n",
       "      <td>...</td>\n",
       "      <td>...</td>\n",
       "      <td>...</td>\n",
       "    </tr>\n",
       "    <tr>\n",
       "      <th>1098</th>\n",
       "      <td>해변,경관/포토,커플,맑음,여름,공용주차장,화장실,음료대,유도 및 안내시설,경보 및...</td>\n",
       "      <td>CONT_000000000500682</td>\n",
       "      <td>관광지</td>\n",
       "      <td>한담해변</td>\n",
       "      <td>제주특별자치도 제주시 애월읍 애월리 2533-1</td>\n",
       "      <td>제주특별자치도 제주시 애월읍 애월로1길 26-4</td>\n",
       "      <td>해변,경관/포토,커플,맑음,여름,자연경관,포토스팟,봄꽃,유채꽃</td>\n",
       "      <td>해안길을 따라 산책할 수 있는 제주의 숨은 비경</td>\n",
       "      <td>27040</td>\n",
       "      <td>9</td>\n",
       "      <td>...</td>\n",
       "      <td>5.0</td>\n",
       "      <td>33.460042</td>\n",
       "      <td>126.310542</td>\n",
       "      <td>064-728-3394</td>\n",
       "      <td>제주 북서부에 위치한 애월에서 곽지까지 해안을 따라 이어지는 산책로다. 제주도가 연...</td>\n",
       "      <td>59.0</td>\n",
       "      <td>자연</td>\n",
       "      <td>해변</td>\n",
       "      <td>https://api.cdn.visitjeju.net/photomng/imgpath...</td>\n",
       "      <td>https://api.cdn.visitjeju.net/photomng/thumbna...</td>\n",
       "    </tr>\n",
       "    <tr>\n",
       "      <th>1099</th>\n",
       "      <td>커플,친구,아이,부모,혼자,경관/포토,여름,맑음</td>\n",
       "      <td>CNTS_000000000018385</td>\n",
       "      <td>관광지</td>\n",
       "      <td>김경숙해바라기농장</td>\n",
       "      <td>제주특별자치도 제주시 회천동 391</td>\n",
       "      <td>제주특별자치도 제주시 번영로 854-1</td>\n",
       "      <td>커플,친구,아이,부모,혼자,경관/포토,여름,맑음,자연경관,포토스팟,어린이,어트랙션,...</td>\n",
       "      <td>노란 물결의 해바라기가 펼쳐진 해바라기 농장</td>\n",
       "      <td>67183</td>\n",
       "      <td>17</td>\n",
       "      <td>...</td>\n",
       "      <td>5.0</td>\n",
       "      <td>33.477360</td>\n",
       "      <td>126.627670</td>\n",
       "      <td>064-721-1482</td>\n",
       "      <td>제주시에서 서귀포 표선으로 향하는 번영로에 위치한 해바라기 농장이다. \\r\\n농장 ...</td>\n",
       "      <td>50.0</td>\n",
       "      <td>테마관광지</td>\n",
       "      <td>그외</td>\n",
       "      <td>https://api.cdn.visitjeju.net/photomng/imgpath...</td>\n",
       "      <td>https://api.cdn.visitjeju.net/photomng/thumbna...</td>\n",
       "    </tr>\n",
       "    <tr>\n",
       "      <th>1100</th>\n",
       "      <td>체험관광,아이,맑음,봄</td>\n",
       "      <td>CNTS_000000000020230</td>\n",
       "      <td>관광지</td>\n",
       "      <td>아침미소목장</td>\n",
       "      <td>제주특별자치도 제주시 월평동 155</td>\n",
       "      <td>제주특별자치도 제주시 첨단동길 160-20</td>\n",
       "      <td>체험관광,아이,맑음,봄,체험,어린이,어트랙션</td>\n",
       "      <td>제주시 근교에 자리한 아침미소목장은 건강한 젖소들이 자라는 친환경 목장이다. 넓은 ...</td>\n",
       "      <td>66282</td>\n",
       "      <td>38</td>\n",
       "      <td>...</td>\n",
       "      <td>5.0</td>\n",
       "      <td>33.454440</td>\n",
       "      <td>126.586620</td>\n",
       "      <td>064-727-2545</td>\n",
       "      <td>제주시 근교에 자리한 아침미소목장은 건강한 젖소들이 자라는 친환경 목장이다. 넓은 ...</td>\n",
       "      <td>71.0</td>\n",
       "      <td>레저/체험</td>\n",
       "      <td>체험</td>\n",
       "      <td>https://api.cdn.visitjeju.net/photomng/imgpath...</td>\n",
       "      <td>https://api.cdn.visitjeju.net/photomng/thumbna...</td>\n",
       "    </tr>\n",
       "    <tr>\n",
       "      <th>1101</th>\n",
       "      <td>승마,액티비티,친구,커플,공용주차장,현금결제,카드결제,화장실,무료 WIFI,음료대,...</td>\n",
       "      <td>CONT_000000000500560</td>\n",
       "      <td>관광지</td>\n",
       "      <td>제주승마공원</td>\n",
       "      <td>제주특별자치도 제주시 애월읍 녹고메길 152-1</td>\n",
       "      <td>제주특별자치도 제주시 애월읍 녹고메길 152-1</td>\n",
       "      <td>승마,액티비티,친구,커플,체험,레저/체험,어트랙션</td>\n",
       "      <td>국내최대 외승,트래킹/ 국내 최초 야외 야간 승마 및 전문 승마체험 및 회원제 승마장</td>\n",
       "      <td>20606</td>\n",
       "      <td>2</td>\n",
       "      <td>...</td>\n",
       "      <td>5.0</td>\n",
       "      <td>33.405148</td>\n",
       "      <td>126.406890</td>\n",
       "      <td>-1544-9506</td>\n",
       "      <td>애월의 숲 제주승마공원, 말과 함께 세상을 달린다.\\r\\n산악승마, 해변승마, 산림...</td>\n",
       "      <td>NaN</td>\n",
       "      <td>레저/체험</td>\n",
       "      <td>승마</td>\n",
       "      <td>https://api.cdn.visitjeju.net/photomng/imgpath...</td>\n",
       "      <td>https://api.cdn.visitjeju.net/photomng/thumbna...</td>\n",
       "    </tr>\n",
       "    <tr>\n",
       "      <th>1102</th>\n",
       "      <td>섬속의섬,일몰,휴식/힐링,아이,맑음,여름,공용주차장,현금결제,카드결제,화장실,편의점...</td>\n",
       "      <td>CONT_000000000500267</td>\n",
       "      <td>관광지</td>\n",
       "      <td>비양도</td>\n",
       "      <td>제주특별자치도 제주시 한림읍 협재리</td>\n",
       "      <td>제주특별자치도 제주시 한림읍 협재리</td>\n",
       "      <td>섬속의섬,일몰,휴식/힐링,아이,맑음,여름,자연경관,어린이,언택트,유네스코</td>\n",
       "      <td>천 년의 시간을 간직한 섬\\r\\n· 천연기념물 제439호\\r\\n· 제주도기념물 제4...</td>\n",
       "      <td>44298</td>\n",
       "      <td>7</td>\n",
       "      <td>...</td>\n",
       "      <td>5.0</td>\n",
       "      <td>33.408839</td>\n",
       "      <td>126.227857</td>\n",
       "      <td>064-796-3515</td>\n",
       "      <td>?비양도는 제주도 서쪽 한림읍에 위치한 섬으로, 근처 협재해수욕장에서도 보이는 섬이...</td>\n",
       "      <td>129.0</td>\n",
       "      <td>섬속의 섬</td>\n",
       "      <td>섬속의 섬</td>\n",
       "      <td>https://api.cdn.visitjeju.net/photomng/imgpath...</td>\n",
       "      <td>https://api.cdn.visitjeju.net/photomng/thumbna...</td>\n",
       "    </tr>\n",
       "  </tbody>\n",
       "</table>\n",
       "<p>1103 rows × 25 columns</p>\n",
       "</div>"
      ],
      "text/plain": [
       "                                                 alltag            contentsid  \\\n",
       "0                                   휴식/힐링,체험관광,액티비티,사계절  CNTS_200000000012469   \n",
       "1     부모,커플,친구,경관/포토,휴식/힐링,테마공원,오름,사계절,청년,중/장년,휴식/치유...  CNTS_200000000009501   \n",
       "2     커플,부모,혼자,친구,아이,맑음,흐림,비.눈,경관/포토,휴식/힐링,미술/박물관,사계...  CNTS_200000000012075   \n",
       "3                                                   관광지  CNTS_200000000013590   \n",
       "4                  실내,문화유적지,가을,문화관광,역사유적,어트랙션,공용주차장,어려움  CNTS_000000000021292   \n",
       "...                                                 ...                   ...   \n",
       "1098  해변,경관/포토,커플,맑음,여름,공용주차장,화장실,음료대,유도 및 안내시설,경보 및...  CONT_000000000500682   \n",
       "1099                         커플,친구,아이,부모,혼자,경관/포토,여름,맑음  CNTS_000000000018385   \n",
       "1100                                       체험관광,아이,맑음,봄  CNTS_000000000020230   \n",
       "1101  승마,액티비티,친구,커플,공용주차장,현금결제,카드결제,화장실,무료 WIFI,음료대,...  CONT_000000000500560   \n",
       "1102  섬속의섬,일몰,휴식/힐링,아이,맑음,여름,공용주차장,현금결제,카드결제,화장실,편의점...  CONT_000000000500267   \n",
       "\n",
       "     contentscd             title                      address  \\\n",
       "0           관광지  제로스테이션(제로포인트트레일)      제주특별자치도 제주시 건입동 1136 2층   \n",
       "1           관광지         궁대오름(궁대악)  제주특별자치도 서귀포시 성산읍 수산리 4711-1   \n",
       "2           관광지        헌마공신김만일기념관             서귀포시 남원읍 서성로 919   \n",
       "3           관광지              본초족욕          제주특별자치도 제주시 연동 1326   \n",
       "4           관광지             강병대교회    제주특별자치도 서귀포시 대정읍 상모리 3846   \n",
       "...         ...               ...                          ...   \n",
       "1098        관광지              한담해변   제주특별자치도 제주시 애월읍 애월리 2533-1   \n",
       "1099        관광지         김경숙해바라기농장          제주특별자치도 제주시 회천동 391   \n",
       "1100        관광지            아침미소목장          제주특별자치도 제주시 월평동 155   \n",
       "1101        관광지            제주승마공원   제주특별자치도 제주시 애월읍 녹고메길 152-1   \n",
       "1102        관광지               비양도          제주특별자치도 제주시 한림읍 협재리   \n",
       "\n",
       "                      roadaddress  \\\n",
       "0           제주특별자치도 제주시 산지로 25 2층   \n",
       "1       제주특별자치도 서귀포시 성산읍 금백조로 446   \n",
       "2                서귀포시 남원읍 서성로 919   \n",
       "3              제주특별자치도 제주시 은수길 65   \n",
       "4     제주특별자치도 서귀포시 대정읍 상모대서로 43-3   \n",
       "...                           ...   \n",
       "1098   제주특별자치도 제주시 애월읍 애월로1길 26-4   \n",
       "1099        제주특별자치도 제주시 번영로 854-1   \n",
       "1100      제주특별자치도 제주시 첨단동길 160-20   \n",
       "1101   제주특별자치도 제주시 애월읍 녹고메길 152-1   \n",
       "1102          제주특별자치도 제주시 한림읍 협재리   \n",
       "\n",
       "                                                    tag  \\\n",
       "0                     휴식/힐링,체험관광,액티비티,사계절,체험,레저/체험,어트랙션   \n",
       "1     부모,커플,친구,경관/포토,휴식/힐링,테마공원,오름,사계절,청년,중/장년,휴식/치유...   \n",
       "2     커플,부모,혼자,친구,아이,맑음,흐림,비.눈,경관/포토,휴식/힐링,미술/박물관,사계...   \n",
       "3                                관광지,안전여행스탬프,experience   \n",
       "4                            실내,문화유적지,가을,문화관광,역사유적,어트랙션   \n",
       "...                                                 ...   \n",
       "1098                 해변,경관/포토,커플,맑음,여름,자연경관,포토스팟,봄꽃,유채꽃   \n",
       "1099  커플,친구,아이,부모,혼자,경관/포토,여름,맑음,자연경관,포토스팟,어린이,어트랙션,...   \n",
       "1100                           체험관광,아이,맑음,봄,체험,어린이,어트랙션   \n",
       "1101                        승마,액티비티,친구,커플,체험,레저/체험,어트랙션   \n",
       "1102           섬속의섬,일몰,휴식/힐링,아이,맑음,여름,자연경관,어린이,언택트,유네스코   \n",
       "\n",
       "                                           introduction  readcnt  likecnt  \\\n",
       "0     제로스테이션은 산지천에 위치한 카페이자 길과 여행을 사랑하는 사람들을 위한 공간이다...      530        0   \n",
       "1     오름의 모양새가 마치 활처럼 생기고, 오름 허리에 활(궁·弓)자 모양의 띠가 둘러져...     1723        0   \n",
       "2     임진왜란 당시 전쟁에 사용할 말 500마리를 헌납하면서 국난극복에 기여한 김만일(1...      323        2   \n",
       "3                 천연 족욕 테라피를 즐기면서 심신의 피로를 확 날려버릴 수 있는 곳       40        1   \n",
       "4                                   우리나라에서 가장 오래된 군인 교회     2839        0   \n",
       "...                                                 ...      ...      ...   \n",
       "1098                         해안길을 따라 산책할 수 있는 제주의 숨은 비경    27040        9   \n",
       "1099                           노란 물결의 해바라기가 펼쳐진 해바라기 농장    67183       17   \n",
       "1100  제주시 근교에 자리한 아침미소목장은 건강한 젖소들이 자라는 친환경 목장이다. 넓은 ...    66282       38   \n",
       "1101    국내최대 외승,트래킹/ 국내 최초 야외 야간 승마 및 전문 승마체험 및 회원제 승마장    20606        2   \n",
       "1102  천 년의 시간을 간직한 섬\\r\\n· 천연기념물 제439호\\r\\n· 제주도기념물 제4...    44298        7   \n",
       "\n",
       "      ...  evelpt   latitude   longitude        phoneno  \\\n",
       "0     ...     0.0  33.514733  126.529280   064-702-1947   \n",
       "1     ...     0.0  33.440562  126.822089   064-787-4711   \n",
       "2     ...     0.0        NaN         NaN   064-805-9801   \n",
       "3     ...     0.0  33.471491  126.488172   010249938913   \n",
       "4     ...     NaN  33.226520  126.257220  070-7790-3860   \n",
       "...   ...     ...        ...         ...            ...   \n",
       "1098  ...     5.0  33.460042  126.310542   064-728-3394   \n",
       "1099  ...     5.0  33.477360  126.627670   064-721-1482   \n",
       "1100  ...     5.0  33.454440  126.586620   064-727-2545   \n",
       "1101  ...     5.0  33.405148  126.406890     -1544-9506   \n",
       "1102  ...     5.0  33.408839  126.227857   064-796-3515   \n",
       "\n",
       "                                                   sbst  PHOTOSHARECOUNT  \\\n",
       "0     트레킹 프로그램과 관련해 사전 상담과 당일 모니터링, 완주 인증 기록 게시 등 다양...              0.0   \n",
       "1     오름의 모양새가 마치 활처럼 생기고, 오름 허리에 활(궁·弓)자 모양의 띠가 둘러져...              0.0   \n",
       "2                                                   NaN              0.0   \n",
       "3                                                   NaN              0.0   \n",
       "4     건립 당시의 원형이 절반 이상 남아있는 생생한 역사의 흔적\\r\\n서귀포시 대정읍에 ...              NaN   \n",
       "...                                                 ...              ...   \n",
       "1098  제주 북서부에 위치한 애월에서 곽지까지 해안을 따라 이어지는 산책로다. 제주도가 연...             59.0   \n",
       "1099  제주시에서 서귀포 표선으로 향하는 번영로에 위치한 해바라기 농장이다. \\r\\n농장 ...             50.0   \n",
       "1100  제주시 근교에 자리한 아침미소목장은 건강한 젖소들이 자라는 친환경 목장이다. 넓은 ...             71.0   \n",
       "1101  애월의 숲 제주승마공원, 말과 함께 세상을 달린다.\\r\\n산악승마, 해변승마, 산림...              NaN   \n",
       "1102  ?비양도는 제주도 서쪽 한림읍에 위치한 섬으로, 근처 협재해수욕장에서도 보이는 섬이...            129.0   \n",
       "\n",
       "      cate2cd  cate3cd                                            imgpath  \\\n",
       "0       레저/체험       그외  https://api.cdn.visitjeju.net/photomng/imgpath...   \n",
       "1          자연       오름  https://api.cdn.visitjeju.net/photomng/imgpath...   \n",
       "2        문화관광      전시관  https://api.cdn.visitjeju.net/photomng/imgpath...   \n",
       "3       레저/체험       그외  https://api.cdn.visitjeju.net/photomng/imgpath...   \n",
       "4        문화관광      문화재  https://api.cdn.visitjeju.net/photomng/imgpath...   \n",
       "...       ...      ...                                                ...   \n",
       "1098       자연       해변  https://api.cdn.visitjeju.net/photomng/imgpath...   \n",
       "1099    테마관광지       그외  https://api.cdn.visitjeju.net/photomng/imgpath...   \n",
       "1100    레저/체험       체험  https://api.cdn.visitjeju.net/photomng/imgpath...   \n",
       "1101    레저/체험       승마  https://api.cdn.visitjeju.net/photomng/imgpath...   \n",
       "1102    섬속의 섬    섬속의 섬  https://api.cdn.visitjeju.net/photomng/imgpath...   \n",
       "\n",
       "                                          thumbnailpath  \n",
       "0     https://api.cdn.visitjeju.net/photomng/thumbna...  \n",
       "1     https://api.cdn.visitjeju.net/photomng/thumbna...  \n",
       "2     https://api.cdn.visitjeju.net/photomng/thumbna...  \n",
       "3     https://api.cdn.visitjeju.net/photomng/thumbna...  \n",
       "4     https://api.cdn.visitjeju.net/photomng/thumbna...  \n",
       "...                                                 ...  \n",
       "1098  https://api.cdn.visitjeju.net/photomng/thumbna...  \n",
       "1099  https://api.cdn.visitjeju.net/photomng/thumbna...  \n",
       "1100  https://api.cdn.visitjeju.net/photomng/thumbna...  \n",
       "1101  https://api.cdn.visitjeju.net/photomng/thumbna...  \n",
       "1102  https://api.cdn.visitjeju.net/photomng/thumbna...  \n",
       "\n",
       "[1103 rows x 25 columns]"
      ]
     },
     "execution_count": 33,
     "metadata": {},
     "output_type": "execute_result"
    }
   ],
   "source": [
    "pd.read_csv('./jeju_tour_places_modified.csv',encoding='utf-8')"
   ]
  }
 ],
 "metadata": {
  "kernelspec": {
   "display_name": "Python 3 (ipykernel)",
   "language": "python",
   "name": "python3"
  },
  "language_info": {
   "codemirror_mode": {
    "name": "ipython",
    "version": 3
   },
   "file_extension": ".py",
   "mimetype": "text/x-python",
   "name": "python",
   "nbconvert_exporter": "python",
   "pygments_lexer": "ipython3",
   "version": "3.8.13"
  }
 },
 "nbformat": 4,
 "nbformat_minor": 5
}
