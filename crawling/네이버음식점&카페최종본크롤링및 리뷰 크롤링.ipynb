{
 "cells": [
  {
   "cell_type": "code",
   "execution_count": 1,
   "id": "bcaa4138",
   "metadata": {},
   "outputs": [],
   "source": [
    "import requests\n",
    "import pandas as pd\n",
    "import time\n",
    "import numpy as np\n",
    "import re\n",
    "import sys\n",
    "import random"
   ]
  },
  {
   "cell_type": "code",
   "execution_count": 2,
   "id": "2bb319a2",
   "metadata": {},
   "outputs": [],
   "source": [
    "jeju_food = pd.read_csv('../data/공공데이터/제주특별자치도음식점목록(통합).csv')"
   ]
  },
  {
   "cell_type": "code",
   "execution_count": 3,
   "id": "641624e2",
   "metadata": {},
   "outputs": [
    {
     "name": "stdout",
     "output_type": "stream",
     "text": [
      "<class 'pandas.core.frame.DataFrame'>\n",
      "RangeIndex: 42602 entries, 0 to 42601\n",
      "Data columns (total 16 columns):\n",
      " #   Column   Non-Null Count  Dtype  \n",
      "---  ------   --------------  -----  \n",
      " 0   사업장명     42602 non-null  object \n",
      " 1   업종구분대분류  42602 non-null  object \n",
      " 2   업종구분소분류  42599 non-null  object \n",
      " 3   인허가일자    42584 non-null  float64\n",
      " 4   인허가취소일자  18 non-null     object \n",
      " 5   영업상태명    42602 non-null  object \n",
      " 6   상세영업상태명  42594 non-null  object \n",
      " 7   폐업일자     23435 non-null  float64\n",
      " 8   휴업시작일자   0 non-null      float64\n",
      " 9   휴업종료일자   0 non-null      float64\n",
      " 10  재개업일자    18 non-null     float64\n",
      " 11  소재지면적    41998 non-null  object \n",
      " 12  소재지전체주소  42420 non-null  object \n",
      " 13  도로명전체주소  27767 non-null  object \n",
      " 14  도로명우편번호  27433 non-null  object \n",
      " 15  데이터갱신일자  42584 non-null  object \n",
      "dtypes: float64(5), object(11)\n",
      "memory usage: 5.2+ MB\n"
     ]
    }
   ],
   "source": [
    "jeju_food.info()"
   ]
  },
  {
   "cell_type": "code",
   "execution_count": 4,
   "id": "b9f95505",
   "metadata": {},
   "outputs": [],
   "source": [
    "jeju_food_1=jeju_food[jeju_food['영업상태명'] != '폐업']"
   ]
  },
  {
   "cell_type": "code",
   "execution_count": 12,
   "id": "2d5a9d27",
   "metadata": {},
   "outputs": [
    {
     "name": "stdout",
     "output_type": "stream",
     "text": [
      "<class 'pandas.core.frame.DataFrame'>\n",
      "Int64Index: 19157 entries, 0 to 41281\n",
      "Data columns (total 16 columns):\n",
      " #   Column   Non-Null Count  Dtype  \n",
      "---  ------   --------------  -----  \n",
      " 0   사업장명     19157 non-null  object \n",
      " 1   업종구분대분류  19157 non-null  object \n",
      " 2   업종구분소분류  19155 non-null  object \n",
      " 3   인허가일자    19149 non-null  float64\n",
      " 4   인허가취소일자  8 non-null      object \n",
      " 5   영업상태명    19157 non-null  object \n",
      " 6   상세영업상태명  19149 non-null  object \n",
      " 7   폐업일자     0 non-null      float64\n",
      " 8   휴업시작일자   0 non-null      float64\n",
      " 9   휴업종료일자   0 non-null      float64\n",
      " 10  재개업일자    8 non-null      float64\n",
      " 11  소재지면적    19148 non-null  object \n",
      " 12  소재지전체주소  19062 non-null  object \n",
      " 13  도로명전체주소  18925 non-null  object \n",
      " 14  도로명우편번호  18818 non-null  object \n",
      " 15  데이터갱신일자  19149 non-null  object \n",
      "dtypes: float64(5), object(11)\n",
      "memory usage: 2.5+ MB\n"
     ]
    }
   ],
   "source": [
    "jeju_food_1.info()"
   ]
  },
  {
   "cell_type": "code",
   "execution_count": 8,
   "id": "6f640e13",
   "metadata": {},
   "outputs": [],
   "source": [
    "# 1차 검색 제주 000 \n",
    "url = 'https://map.naver.com/v5/api/search'\n",
    "params = {\n",
    "    'calller': 'pcweb',\n",
    "    'query': '',\n",
    "    'type': 'all',\n",
    "    'searchCoord': '126.56379330000001;33.24652849999992',\n",
    "    'page': 1,\n",
    "    'displayCount': 20,\n",
    "    'isPlaceRecommendationReplace': True,\n",
    "    'lang': 'ko'\n",
    "}\n",
    "tmp_dict = dict()\n",
    "headers = {\n",
    "    'accept': 'application/json, text/plain, */*',\n",
    "    'accept-encoding': 'gzip, deflate, br',\n",
    "    'accept-language': 'ko-KR,ko;q=0.8,en-US;q=0.6,en;q=0.4',\n",
    "    'cache-control': 'no-cache',\n",
    "    'content-type': 'application/json',\n",
    "    'cookie': 'NNB=SFVP2LHVPD7WC; NDARK=N; _gcl_au=1.1.876992382.1652928740; _fbp=fb.1.1652928739593.996991756; _ga=GA1.2.1723077753.1655082737; MM_NEW=1; NFS=2; _tt_enable_cookie=1; _ttp=d30a8fad-c361-4bb2-a6d7-884e4f9ca1c6; NV_WETR_LOCATION_RGN_M=\"MDkxNDAxMDQ=\"; NV_WETR_LAST_ACCESS_RGN_M=\"MDkxNDAxMDQ=\"; nx_ssl=2; csrf_token=b22420dac145f9757a431121f5b4c25948818847853c526728a4d2219155c97e9b6490d088524f5e2d1f9fdd189f23d95bdd86f6e9ca8c8b07bf30c857e040c6; page_uid=d78aa3bb-613a-4eab-8035-b9c4712fa1de',\n",
    "    'expires': 'Sat, 01 Jan 2000 00:00:00 GMT',\n",
    "    'pragma': 'no-cache',\n",
    "    'referer': 'https://map.naver.com/',\n",
    "    'sec-fetch-dest': 'empty',\n",
    "    'sec-fetch-mode': 'cors',\n",
    "    'sec-fetch-site': 'same-origin',\n",
    "    'user-agent': 'Mozilla/5.0 (Windows NT 10.0; Win64; x64) AppleWebKit/537.36 (KHTML, like Gecko) Chrome/103.0.0.0 Safari/537.36'\n",
    "}\n",
    "params2 ={\n",
    "    'lang' :'ko'\n",
    "}\n",
    "#n차 검색 제주도 주소 검색 후 해당 위치의 가게 정보를 조회 \n",
    "url3 = 'https://map.naver.com/v5/api/addresses/place/'\n",
    "params3= {\n",
    "    'address':'',\n",
    "    'lang':'ko',\n",
    "    'page':1\n",
    "}\n",
    "headers2 = {\n",
    "    'authority': 'map.naver.com',\n",
    "    'accept': 'application/json, text/plain, */*',\n",
    "    'accept-encoding': 'gzip, deflate, br',\n",
    "    'accept-language': 'ko-KR,ko;q=0.8,en-US;q=0.6,en;q=0.4',\n",
    "    'cache-control': 'no-cache',\n",
    "    'content-type': 'application/json',\n",
    "    'cookie': 'NNB=SFVP2LHVPD7WC; NDARK=N; _gcl_au=1.1.876992382.1652928740; _fbp=fb.1.1652928739593.996991756; _ga=GA1.2.1723077753.1655082737; MM_NEW=1; NFS=2; _tt_enable_cookie=1; _ttp=d30a8fad-c361-4bb2-a6d7-884e4f9ca1c6; NV_WETR_LOCATION_RGN_M=\"MDkxNDAxMDQ=\"; NV_WETR_LAST_ACCESS_RGN_M=\"MDkxNDAxMDQ=\"; nx_ssl=2; page_uid=hXuWqwp0YiRssBM4BUGssssssMo-163853; BMR=s=1658907970093&r=https://m.blog.naver.com/PostView.naver?isHttpsRedirect=true&blogId=heygun&logNo=221520454294&r2=https://www.google.com/; page_uid=3c7d105d-de2b-4c43-8a74-1c2abebf354d',\n",
    "    'expires': 'Sat, 01 Jan 2000 00:00:00 GMT',\n",
    "    'pragma ': 'no-cache',\n",
    "    'referer': 'https://map.naver.com/',\n",
    "    'sec-fetch-dest': 'empty',\n",
    "    'sec-fetch-mode': 'cors',\n",
    "    'sec-fetch-site': 'same-origin',\n",
    "    'user-agent': 'Mozilla/5.0 (Windows NT 10.0; Win64; x64) AppleWebKit/537.36 (KHTML, like Gecko) Chrome/103.0.0.0 Safari/537.36'\n",
    "}"
   ]
  },
  {
   "cell_type": "code",
   "execution_count": null,
   "id": "df0bce3d",
   "metadata": {},
   "outputs": [],
   "source": []
  },
  {
   "cell_type": "code",
   "execution_count": null,
   "id": "42d0f9ea",
   "metadata": {},
   "outputs": [],
   "source": []
  },
  {
   "cell_type": "code",
   "execution_count": null,
   "id": "3b9c781b",
   "metadata": {},
   "outputs": [],
   "source": []
  }
 ],
 "metadata": {
  "kernelspec": {
   "display_name": "Python 3.8.13 ('py38')",
   "language": "python",
   "name": "python3"
  },
  "language_info": {
   "codemirror_mode": {
    "name": "ipython",
    "version": 3
   },
   "file_extension": ".py",
   "mimetype": "text/x-python",
   "name": "python",
   "nbconvert_exporter": "python",
   "pygments_lexer": "ipython3",
   "version": "3.8.13"
  },
  "vscode": {
   "interpreter": {
    "hash": "c7c6531260f3ab1d8810459c44c47d7fac9c3fbc2eb5f556f0349ce106a7c2dd"
   }
  }
 },
 "nbformat": 4,
 "nbformat_minor": 5
}
