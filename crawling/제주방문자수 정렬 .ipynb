{
 "cells": [
  {
   "cell_type": "code",
   "execution_count": 30,
   "id": "f74b9b5d",
   "metadata": {},
   "outputs": [],
   "source": [
    "from glob import glob\n",
    "from pathlib import Path\n",
    "import pandas as pd"
   ]
  },
  {
   "cell_type": "code",
   "execution_count": 71,
   "id": "224f1d43",
   "metadata": {},
   "outputs": [],
   "source": [
    "folder_names = []\n",
    "for folder in Path('../일별방문객데이터파일/').glob('*데이터랩_다운로드'):\n",
    "    folder_names.append(folder)"
   ]
  },
  {
   "cell_type": "code",
   "execution_count": 27,
   "id": "8692c39c",
   "metadata": {
    "scrolled": false
   },
   "outputs": [],
   "source": [
    "file_names = []\n",
    "for folder in folder_names:\n",
    "    for file in folder.glob('*방문자 수 추이.csv'):\n",
    "        file_names.append(file)"
   ]
  },
  {
   "cell_type": "code",
   "execution_count": 65,
   "id": "bb866d47",
   "metadata": {},
   "outputs": [
    {
     "name": "stdout",
     "output_type": "stream",
     "text": [
      "0 번째 완료\n",
      "1 번째 완료\n",
      "2 번째 완료\n",
      "3 번째 완료\n",
      "4 번째 완료\n",
      "5 번째 완료\n",
      "6 번째 완료\n",
      "7 번째 완료\n",
      "8 번째 완료\n",
      "9 번째 완료\n",
      "10 번째 완료\n",
      "11 번째 완료\n",
      "12 번째 완료\n",
      "13 번째 완료\n",
      "14 번째 완료\n",
      "15 번째 완료\n",
      "16 번째 완료\n",
      "17 번째 완료\n",
      "18 번째 완료\n",
      "19 번째 완료\n",
      "20 번째 완료\n",
      "21 번째 완료\n",
      "22 번째 완료\n",
      "23 번째 완료\n",
      "24 번째 완료\n",
      "25 번째 완료\n",
      "26 번째 완료\n",
      "27 번째 완료\n",
      "28 번째 완료\n",
      "29 번째 완료\n",
      "30 번째 완료\n",
      "31 번째 완료\n",
      "32 번째 완료\n",
      "33 번째 완료\n",
      "34 번째 완료\n",
      "35 번째 완료\n",
      "36 번째 완료\n",
      "37 번째 완료\n",
      "38 번째 완료\n",
      "39 번째 완료\n",
      "40 번째 완료\n",
      "41 번째 완료\n",
      "42 번째 완료\n",
      "43 번째 완료\n",
      "44 번째 완료\n",
      "45 번째 완료\n",
      "46 번째 완료\n",
      "47 번째 완료\n",
      "48 번째 완료\n"
     ]
    }
   ],
   "source": [
    "for num ,file in enumerate(file_names):\n",
    "    if num != 0:\n",
    "        tmp = result\n",
    "    result=pd.read_csv(file,encoding='euc-kr')\n",
    "    if num != 0:\n",
    "        result=pd.concat([tmp,result],axis=0,ignore_index=True)\n",
    "    print(num,'번째 완료')\n"
   ]
  },
  {
   "cell_type": "code",
   "execution_count": 48,
   "id": "e9056b1a",
   "metadata": {
    "scrolled": true
   },
   "outputs": [],
   "source": [
    "tmp = pd.read_csv(file_names[-3],encoding='euc-kr')"
   ]
  },
  {
   "cell_type": "code",
   "execution_count": 47,
   "id": "bb4d4311",
   "metadata": {},
   "outputs": [],
   "source": [
    "tmp1 = pd.read_csv(file_names[-2],encoding='euc-kr')"
   ]
  },
  {
   "cell_type": "code",
   "execution_count": 57,
   "id": "8303e264",
   "metadata": {
    "scrolled": true
   },
   "outputs": [
    {
     "data": {
      "text/plain": [
       "WindowsPath('../새 폴더/20220718133119_제주특별자치도_20220701-20220714_데이터랩_다운로드/20220718133119_방문자 수 추이.csv')"
      ]
     },
     "execution_count": 57,
     "metadata": {},
     "output_type": "execute_result"
    }
   ],
   "source": [
    "file_names[-1]"
   ]
  },
  {
   "cell_type": "code",
   "execution_count": 66,
   "id": "3cee44b3",
   "metadata": {},
   "outputs": [
    {
     "data": {
      "text/html": [
       "<div>\n",
       "<style scoped>\n",
       "    .dataframe tbody tr th:only-of-type {\n",
       "        vertical-align: middle;\n",
       "    }\n",
       "\n",
       "    .dataframe tbody tr th {\n",
       "        vertical-align: top;\n",
       "    }\n",
       "\n",
       "    .dataframe thead th {\n",
       "        text-align: right;\n",
       "    }\n",
       "</style>\n",
       "<table border=\"1\" class=\"dataframe\">\n",
       "  <thead>\n",
       "    <tr style=\"text-align: right;\">\n",
       "      <th></th>\n",
       "      <th>기준년월</th>\n",
       "      <th>광역지자체</th>\n",
       "      <th>방문자 구분</th>\n",
       "      <th>방문자 수</th>\n",
       "      <th>전년도 방문자 수</th>\n",
       "    </tr>\n",
       "  </thead>\n",
       "  <tbody>\n",
       "    <tr>\n",
       "      <th>0</th>\n",
       "      <td>20180701</td>\n",
       "      <td>제주특별자치도</td>\n",
       "      <td>현지인방문자(a)</td>\n",
       "      <td>432397.0</td>\n",
       "      <td>0.0</td>\n",
       "    </tr>\n",
       "    <tr>\n",
       "      <th>1</th>\n",
       "      <td>20180701</td>\n",
       "      <td>제주특별자치도</td>\n",
       "      <td>외지인방문자(b)</td>\n",
       "      <td>113981.0</td>\n",
       "      <td>0.0</td>\n",
       "    </tr>\n",
       "    <tr>\n",
       "      <th>2</th>\n",
       "      <td>20180701</td>\n",
       "      <td>제주특별자치도</td>\n",
       "      <td>외국인방문자(c)</td>\n",
       "      <td>12339.0</td>\n",
       "      <td>0.0</td>\n",
       "    </tr>\n",
       "    <tr>\n",
       "      <th>3</th>\n",
       "      <td>20180701</td>\n",
       "      <td>제주특별자치도</td>\n",
       "      <td>외부방문자(b+c)</td>\n",
       "      <td>126320.0</td>\n",
       "      <td>0.0</td>\n",
       "    </tr>\n",
       "    <tr>\n",
       "      <th>4</th>\n",
       "      <td>20180701</td>\n",
       "      <td>제주특별자치도</td>\n",
       "      <td>전체방문자(a+b+c)</td>\n",
       "      <td>558717.0</td>\n",
       "      <td>0.0</td>\n",
       "    </tr>\n",
       "    <tr>\n",
       "      <th>...</th>\n",
       "      <td>...</td>\n",
       "      <td>...</td>\n",
       "      <td>...</td>\n",
       "      <td>...</td>\n",
       "      <td>...</td>\n",
       "    </tr>\n",
       "    <tr>\n",
       "      <th>7370</th>\n",
       "      <td>20220714</td>\n",
       "      <td>제주특별자치도</td>\n",
       "      <td>현지인방문자(a)</td>\n",
       "      <td>545548.0</td>\n",
       "      <td>544554.0</td>\n",
       "    </tr>\n",
       "    <tr>\n",
       "      <th>7371</th>\n",
       "      <td>20220714</td>\n",
       "      <td>제주특별자치도</td>\n",
       "      <td>외지인방문자(b)</td>\n",
       "      <td>245892.0</td>\n",
       "      <td>180642.0</td>\n",
       "    </tr>\n",
       "    <tr>\n",
       "      <th>7372</th>\n",
       "      <td>20220714</td>\n",
       "      <td>제주특별자치도</td>\n",
       "      <td>외국인방문자(c)</td>\n",
       "      <td>1663.0</td>\n",
       "      <td>737.0</td>\n",
       "    </tr>\n",
       "    <tr>\n",
       "      <th>7373</th>\n",
       "      <td>20220714</td>\n",
       "      <td>제주특별자치도</td>\n",
       "      <td>외부방문자(b+c)</td>\n",
       "      <td>247556.0</td>\n",
       "      <td>181379.0</td>\n",
       "    </tr>\n",
       "    <tr>\n",
       "      <th>7374</th>\n",
       "      <td>20220714</td>\n",
       "      <td>제주특별자치도</td>\n",
       "      <td>전체방문자(a+b+c)</td>\n",
       "      <td>793104.0</td>\n",
       "      <td>725933.0</td>\n",
       "    </tr>\n",
       "  </tbody>\n",
       "</table>\n",
       "<p>7375 rows × 5 columns</p>\n",
       "</div>"
      ],
      "text/plain": [
       "          기준년월    광역지자체        방문자 구분     방문자 수  전년도 방문자 수\n",
       "0     20180701  제주특별자치도     현지인방문자(a)  432397.0        0.0\n",
       "1     20180701  제주특별자치도     외지인방문자(b)  113981.0        0.0\n",
       "2     20180701  제주특별자치도     외국인방문자(c)   12339.0        0.0\n",
       "3     20180701  제주특별자치도    외부방문자(b+c)  126320.0        0.0\n",
       "4     20180701  제주특별자치도  전체방문자(a+b+c)  558717.0        0.0\n",
       "...        ...      ...           ...       ...        ...\n",
       "7370  20220714  제주특별자치도     현지인방문자(a)  545548.0   544554.0\n",
       "7371  20220714  제주특별자치도     외지인방문자(b)  245892.0   180642.0\n",
       "7372  20220714  제주특별자치도     외국인방문자(c)    1663.0      737.0\n",
       "7373  20220714  제주특별자치도    외부방문자(b+c)  247556.0   181379.0\n",
       "7374  20220714  제주특별자치도  전체방문자(a+b+c)  793104.0   725933.0\n",
       "\n",
       "[7375 rows x 5 columns]"
      ]
     },
     "execution_count": 66,
     "metadata": {},
     "output_type": "execute_result"
    }
   ],
   "source": [
    "result"
   ]
  },
  {
   "cell_type": "code",
   "execution_count": 67,
   "id": "599cc93c",
   "metadata": {},
   "outputs": [],
   "source": [
    "result.drop('광역지자체',axis=1,inplace=True)"
   ]
  },
  {
   "cell_type": "code",
   "execution_count": 69,
   "id": "ee75a045",
   "metadata": {},
   "outputs": [],
   "source": [
    "final=result.pivot(\n",
    "    index='기준년월',\n",
    "    columns='방문자 구분',\n",
    "    values='방문자 수'\n",
    ")"
   ]
  },
  {
   "cell_type": "code",
   "execution_count": 70,
   "id": "78f04435",
   "metadata": {},
   "outputs": [],
   "source": [
    "final.to_csv('../data/visitors_Daily_data.csv',encoding='utf-8')"
   ]
  }
 ],
 "metadata": {
  "kernelspec": {
   "display_name": "Python 3 (ipykernel)",
   "language": "python",
   "name": "python3"
  },
  "language_info": {
   "codemirror_mode": {
    "name": "ipython",
    "version": 3
   },
   "file_extension": ".py",
   "mimetype": "text/x-python",
   "name": "python",
   "nbconvert_exporter": "python",
   "pygments_lexer": "ipython3",
   "version": "3.8.13"
  }
 },
 "nbformat": 4,
 "nbformat_minor": 5
}
