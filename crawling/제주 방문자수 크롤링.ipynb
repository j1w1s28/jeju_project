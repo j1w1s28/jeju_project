{
 "cells": [
  {
   "cell_type": "code",
   "execution_count": 1,
   "id": "52b90690",
   "metadata": {},
   "outputs": [],
   "source": [
    "import requests"
   ]
  },
  {
   "cell_type": "code",
   "execution_count": 78,
   "id": "27e6739c",
   "metadata": {},
   "outputs": [],
   "source": [
    "from selenium import webdriver\n",
    "from selenium.webdriver.common.keys import Keys\n",
    "from selenium.webdriver.support.ui import WebDriverWait\n",
    "from selenium.webdriver.common.by import By\n",
    "import urllib.parse\n",
    "import time\n",
    "from selenium.webdriver.support.ui import Select\n"
   ]
  },
  {
   "cell_type": "code",
   "execution_count": 3,
   "id": "544bee89",
   "metadata": {},
   "outputs": [],
   "source": [
    "from datetime import datetime,timedelta\n",
    "from dateutil.relativedelta import relativedelta"
   ]
  },
  {
   "cell_type": "code",
   "execution_count": 36,
   "id": "689103dc",
   "metadata": {},
   "outputs": [],
   "source": [
    "date_lists = [] "
   ]
  },
  {
   "cell_type": "code",
   "execution_count": 37,
   "id": "32f39c5d",
   "metadata": {},
   "outputs": [],
   "source": [
    "start = '2018-07-01'\n",
    "last = datetime.now().strftime('%Y-%m-%d')"
   ]
  },
  {
   "cell_type": "code",
   "execution_count": 38,
   "id": "287a482d",
   "metadata": {},
   "outputs": [],
   "source": [
    "start_date = datetime.strptime(start, \"%Y-%m-%d\")\n",
    "last_date = datetime.strptime(last, \"%Y-%m-%d\")"
   ]
  },
  {
   "cell_type": "code",
   "execution_count": 33,
   "id": "c27b436d",
   "metadata": {},
   "outputs": [
    {
     "data": {
      "text/plain": [
       "datetime.datetime(2018, 7, 1, 0, 0)"
      ]
     },
     "execution_count": 33,
     "metadata": {},
     "output_type": "execute_result"
    }
   ],
   "source": [
    "start_date"
   ]
  },
  {
   "cell_type": "code",
   "execution_count": 39,
   "id": "fd79dd5b",
   "metadata": {
    "scrolled": true
   },
   "outputs": [
    {
     "name": "stdout",
     "output_type": "stream",
     "text": [
      "2018-07-01\n",
      "2018-08-01\n",
      "2018-09-01\n",
      "2018-10-01\n",
      "2018-11-01\n",
      "2018-12-01\n",
      "2019-01-01\n",
      "2019-02-01\n",
      "2019-03-01\n",
      "2019-04-01\n",
      "2019-05-01\n",
      "2019-06-01\n",
      "2019-07-01\n",
      "2019-08-01\n",
      "2019-09-01\n",
      "2019-10-01\n",
      "2019-11-01\n",
      "2019-12-01\n",
      "2020-01-01\n",
      "2020-02-01\n",
      "2020-03-01\n",
      "2020-04-01\n",
      "2020-05-01\n",
      "2020-06-01\n",
      "2020-07-01\n",
      "2020-08-01\n",
      "2020-09-01\n",
      "2020-10-01\n",
      "2020-11-01\n",
      "2020-12-01\n",
      "2021-01-01\n",
      "2021-02-01\n",
      "2021-03-01\n",
      "2021-04-01\n",
      "2021-05-01\n",
      "2021-06-01\n",
      "2021-07-01\n",
      "2021-08-01\n",
      "2021-09-01\n",
      "2021-10-01\n",
      "2021-11-01\n",
      "2021-12-01\n",
      "2022-01-01\n",
      "2022-02-01\n",
      "2022-03-01\n",
      "2022-04-01\n",
      "2022-05-01\n",
      "2022-06-01\n",
      "2022-07-01\n"
     ]
    }
   ],
   "source": [
    "# 종료일 까지 반복\n",
    "while start_date <= last_date:\n",
    "    dates = start_date.strftime(\"%Y-%m-%d\")\n",
    "    print(dates)\n",
    "\n",
    "    # 하루 더하기\n",
    "    start_date =(start_date+ relativedelta(months = 1))\n",
    "    end_date = start_date- timedelta(days=1)\n",
    "    date_lists.append((datetime.strptime(dates,\"%Y-%m-%d\"),end_date))"
   ]
  },
  {
   "cell_type": "code",
   "execution_count": 41,
   "id": "09f8a072",
   "metadata": {
    "scrolled": true
   },
   "outputs": [
    {
     "data": {
      "text/plain": [
       "'20180731'"
      ]
     },
     "execution_count": 41,
     "metadata": {},
     "output_type": "execute_result"
    }
   ],
   "source": [
    "date_lists[0][1].strftime('%Y%m%d')"
   ]
  },
  {
   "cell_type": "code",
   "execution_count": 92,
   "id": "5ec03e13",
   "metadata": {},
   "outputs": [
    {
     "data": {
      "text/plain": [
       "200"
      ]
     },
     "execution_count": 92,
     "metadata": {},
     "output_type": "execute_result"
    }
   ],
   "source": [
    "response=requests.get(url=url,json=params)\n",
    "response.status_code"
   ]
  },
  {
   "cell_type": "code",
   "execution_count": 98,
   "id": "acf1830a",
   "metadata": {},
   "outputs": [
    {
     "data": {
      "text/plain": [
       "215871"
      ]
     },
     "execution_count": 98,
     "metadata": {},
     "output_type": "execute_result"
    }
   ],
   "source": [
    "open('tmp.html', 'wb').write(response.content)"
   ]
  },
  {
   "cell_type": "code",
   "execution_count": 54,
   "id": "a50c50e0",
   "metadata": {},
   "outputs": [],
   "source": [
    "url1 = 'https://datalab.visitkorea.or.kr/datalab/portal/mbr/getMbrLoginForm.do'\n",
    "url2 = 'https://datalab.visitkorea.or.kr/datalab/portal/bda/getMetcoAna.do'"
   ]
  },
  {
   "cell_type": "code",
   "execution_count": 128,
   "id": "59a43dfc",
   "metadata": {
    "scrolled": true
   },
   "outputs": [
    {
     "name": "stderr",
     "output_type": "stream",
     "text": [
      "C:\\Users\\TJ\\AppData\\Local\\Temp\\ipykernel_7200\\2411312394.py:2: DeprecationWarning: executable_path has been deprecated, please pass in a Service object\n",
      "  driver = webdriver.Chrome(chrome_driver)\n"
     ]
    },
    {
     "name": "stdout",
     "output_type": "stream",
     "text": [
      "2018-07-01 00:00:00 부터 2018-07-31 00:00:00 까지 완료\n",
      "2018-08-01 00:00:00 부터 2018-08-31 00:00:00 까지 완료\n",
      "2018-09-01 00:00:00 부터 2018-09-30 00:00:00 까지 완료\n",
      "2018-10-01 00:00:00 부터 2018-10-31 00:00:00 까지 완료\n",
      "2018-11-01 00:00:00 부터 2018-11-30 00:00:00 까지 완료\n",
      "2018-12-01 00:00:00 부터 2018-12-31 00:00:00 까지 완료\n",
      "2019-01-01 00:00:00 부터 2019-01-31 00:00:00 까지 완료\n",
      "2019-02-01 00:00:00 부터 2019-02-28 00:00:00 까지 완료\n",
      "2019-03-01 00:00:00 부터 2019-03-31 00:00:00 까지 완료\n",
      "2019-04-01 00:00:00 부터 2019-04-30 00:00:00 까지 완료\n",
      "2019-05-01 00:00:00 부터 2019-05-31 00:00:00 까지 완료\n",
      "2019-06-01 00:00:00 부터 2019-06-30 00:00:00 까지 완료\n",
      "2019-07-01 00:00:00 부터 2019-07-31 00:00:00 까지 완료\n",
      "2019-08-01 00:00:00 부터 2019-08-31 00:00:00 까지 완료\n",
      "2019-09-01 00:00:00 부터 2019-09-30 00:00:00 까지 완료\n",
      "2019-10-01 00:00:00 부터 2019-10-31 00:00:00 까지 완료\n",
      "2019-11-01 00:00:00 부터 2019-11-30 00:00:00 까지 완료\n",
      "2019-12-01 00:00:00 부터 2019-12-31 00:00:00 까지 완료\n",
      "2020-01-01 00:00:00 부터 2020-01-31 00:00:00 까지 완료\n",
      "2020-02-01 00:00:00 부터 2020-02-29 00:00:00 까지 완료\n",
      "2020-03-01 00:00:00 부터 2020-03-31 00:00:00 까지 완료\n",
      "2020-04-01 00:00:00 부터 2020-04-30 00:00:00 까지 완료\n",
      "2020-05-01 00:00:00 부터 2020-05-31 00:00:00 까지 완료\n",
      "2020-06-01 00:00:00 부터 2020-06-30 00:00:00 까지 완료\n",
      "2020-07-01 00:00:00 부터 2020-07-31 00:00:00 까지 완료\n",
      "2020-08-01 00:00:00 부터 2020-08-31 00:00:00 까지 완료\n",
      "2020-09-01 00:00:00 부터 2020-09-30 00:00:00 까지 완료\n",
      "2020-10-01 00:00:00 부터 2020-10-31 00:00:00 까지 완료\n",
      "2020-11-01 00:00:00 부터 2020-11-30 00:00:00 까지 완료\n",
      "2020-12-01 00:00:00 부터 2020-12-31 00:00:00 까지 완료\n",
      "2021-01-01 00:00:00 부터 2021-01-31 00:00:00 까지 완료\n",
      "2021-02-01 00:00:00 부터 2021-02-28 00:00:00 까지 완료\n",
      "2021-03-01 00:00:00 부터 2021-03-31 00:00:00 까지 완료\n",
      "2021-04-01 00:00:00 부터 2021-04-30 00:00:00 까지 완료\n",
      "2021-05-01 00:00:00 부터 2021-05-31 00:00:00 까지 완료\n",
      "2021-06-01 00:00:00 부터 2021-06-30 00:00:00 까지 완료\n",
      "2021-07-01 00:00:00 부터 2021-07-31 00:00:00 까지 완료\n",
      "2021-08-01 00:00:00 부터 2021-08-31 00:00:00 까지 완료\n",
      "2021-09-01 00:00:00 부터 2021-09-30 00:00:00 까지 완료\n",
      "2021-10-01 00:00:00 부터 2021-10-31 00:00:00 까지 완료\n",
      "2021-11-01 00:00:00 부터 2021-11-30 00:00:00 까지 완료\n",
      "2021-12-01 00:00:00 부터 2021-12-31 00:00:00 까지 완료\n",
      "2022-01-01 00:00:00 부터 2022-01-31 00:00:00 까지 완료\n",
      "2022-02-01 00:00:00 부터 2022-02-28 00:00:00 까지 완료\n",
      "2022-03-01 00:00:00 부터 2022-03-31 00:00:00 까지 완료\n",
      "2022-04-01 00:00:00 부터 2022-04-30 00:00:00 까지 완료\n",
      "2022-05-01 00:00:00 부터 2022-05-31 00:00:00 까지 완료\n",
      "2022-06-01 00:00:00 부터 2022-06-30 00:00:00 까지 완료\n",
      "2022-07-01 00:00:00 부터 2022-07-31 00:00:00 까지 완료\n"
     ]
    }
   ],
   "source": [
    "chrome_driver = '../data/chromedriver.exe'\n",
    "driver = webdriver.Chrome(chrome_driver)\n",
    "driver.get(url1)\n",
    "id = 'jwshin1194@gmail.com'\n",
    "pw = 'woojeongshin94!'\n",
    "\n",
    "driver.find_element(By.ID,'mbrId').send_keys(id)\n",
    "driver.find_element(By.ID,'mbrPw').send_keys(pw)\n",
    "\n",
    "#script로 처리 실패\n",
    "#driver.execute_script(\"document.getElementsById('mbrId')[0].value=\\'\"+id+\"\\'\")\n",
    "#driver.execute_script(\"document.getElementsById('mbrPw')[0].value=\\'\"+npw+\"\\'\")\n",
    "\n",
    "\n",
    "driver.find_element(By.CSS_SELECTOR,'input.table-btn.floatright.btn[type=submit]').click()\n",
    "time.sleep(1)\n",
    "\n",
    "# 다운로드 url로 이동\n",
    "for one,two in date_lists:\n",
    "    \n",
    "    driver.get(url2)\n",
    "    time.sleep(3)\n",
    "    select = Select(driver.find_element(By.ID,'srchAreaDate'))\n",
    "    # select by visible text\n",
    "    #select.select_by_visible_text('일간')\n",
    "\n",
    "    # select by value \n",
    "    select.select_by_value('5')\n",
    "    time.sleep(1)\n",
    "    #미리 적혀있는 값들 지우기\n",
    "    driver.find_element(By.ID,'dayStart').send_keys(Keys.BACK_SPACE*8,one.strftime('%Y%m%d'),Keys.ENTER)\n",
    "    driver.find_element(By.ID,'dayEnd').send_keys(Keys.BACK_SPACE*8,two.strftime('%Y%m%d'),Keys.ENTER)\n",
    "    #값 넣어주기\n",
    "    #driver.find_element(By.ID,'dayStart').send_keys(date_lists[0][0].strftime('%Y%m%d'))\n",
    "    #driver.find_element(By.ID,'dayEnd').send_keys(date_lists[0][1].strftime('%Y%m%d'))\n",
    "\n",
    "    #xpath로 마지막 지역 선택 후 확인 누르기\n",
    "    driver.find_element(By.CSS_SELECTOR,'a.button.modal-open').click()\n",
    "    driver.find_element(By.XPATH,\"//div[@id='srchNatCdList2']/a[last()]\").click()\n",
    "    driver.find_element(By.XPATH,\"//div[@id='popup1']/div[@class='modal-foot']/div[@class = 'btn-wrap']/a[@onclick='popSet()']\").click()\n",
    "\n",
    "    #조회 버튼 누르기\n",
    "\n",
    "    driver.find_element(By.CSS_SELECTOR,\"#searchWrap > div:nth-child(2) > input\").click()\n",
    "\n",
    "    #다운로드\n",
    "    driver.find_element(By.XPATH,'//*[@id=\"printDiv\"]/div[1]/div[2]/a[1]').click()\n",
    "    time.sleep(1)\n",
    "    driver.find_element(By.XPATH,'//*[@id=\"rdoDataUtilExmn5\"]').click()\n",
    "    driver.find_element(By.XPATH,'//*[@id=\"submit\"]').click()\n",
    "    print(one,'부터',two,'까지 완료')"
   ]
  },
  {
   "cell_type": "code",
   "execution_count": 127,
   "id": "f8d9cc16",
   "metadata": {},
   "outputs": [
    {
     "name": "stdout",
     "output_type": "stream",
     "text": [
      "2018-07-01 00:00:00 2018-07-31 00:00:00\n",
      "2018-08-01 00:00:00 2018-08-31 00:00:00\n",
      "2018-09-01 00:00:00 2018-09-30 00:00:00\n",
      "2018-10-01 00:00:00 2018-10-31 00:00:00\n",
      "2018-11-01 00:00:00 2018-11-30 00:00:00\n",
      "2018-12-01 00:00:00 2018-12-31 00:00:00\n",
      "2019-01-01 00:00:00 2019-01-31 00:00:00\n",
      "2019-02-01 00:00:00 2019-02-28 00:00:00\n",
      "2019-03-01 00:00:00 2019-03-31 00:00:00\n",
      "2019-04-01 00:00:00 2019-04-30 00:00:00\n",
      "2019-05-01 00:00:00 2019-05-31 00:00:00\n",
      "2019-06-01 00:00:00 2019-06-30 00:00:00\n",
      "2019-07-01 00:00:00 2019-07-31 00:00:00\n",
      "2019-08-01 00:00:00 2019-08-31 00:00:00\n",
      "2019-09-01 00:00:00 2019-09-30 00:00:00\n",
      "2019-10-01 00:00:00 2019-10-31 00:00:00\n",
      "2019-11-01 00:00:00 2019-11-30 00:00:00\n",
      "2019-12-01 00:00:00 2019-12-31 00:00:00\n",
      "2020-01-01 00:00:00 2020-01-31 00:00:00\n",
      "2020-02-01 00:00:00 2020-02-29 00:00:00\n",
      "2020-03-01 00:00:00 2020-03-31 00:00:00\n",
      "2020-04-01 00:00:00 2020-04-30 00:00:00\n",
      "2020-05-01 00:00:00 2020-05-31 00:00:00\n",
      "2020-06-01 00:00:00 2020-06-30 00:00:00\n",
      "2020-07-01 00:00:00 2020-07-31 00:00:00\n",
      "2020-08-01 00:00:00 2020-08-31 00:00:00\n",
      "2020-09-01 00:00:00 2020-09-30 00:00:00\n",
      "2020-10-01 00:00:00 2020-10-31 00:00:00\n",
      "2020-11-01 00:00:00 2020-11-30 00:00:00\n",
      "2020-12-01 00:00:00 2020-12-31 00:00:00\n",
      "2021-01-01 00:00:00 2021-01-31 00:00:00\n",
      "2021-02-01 00:00:00 2021-02-28 00:00:00\n",
      "2021-03-01 00:00:00 2021-03-31 00:00:00\n",
      "2021-04-01 00:00:00 2021-04-30 00:00:00\n",
      "2021-05-01 00:00:00 2021-05-31 00:00:00\n",
      "2021-06-01 00:00:00 2021-06-30 00:00:00\n",
      "2021-07-01 00:00:00 2021-07-31 00:00:00\n",
      "2021-08-01 00:00:00 2021-08-31 00:00:00\n",
      "2021-09-01 00:00:00 2021-09-30 00:00:00\n",
      "2021-10-01 00:00:00 2021-10-31 00:00:00\n",
      "2021-11-01 00:00:00 2021-11-30 00:00:00\n",
      "2021-12-01 00:00:00 2021-12-31 00:00:00\n",
      "2022-01-01 00:00:00 2022-01-31 00:00:00\n",
      "2022-02-01 00:00:00 2022-02-28 00:00:00\n",
      "2022-03-01 00:00:00 2022-03-31 00:00:00\n",
      "2022-04-01 00:00:00 2022-04-30 00:00:00\n",
      "2022-05-01 00:00:00 2022-05-31 00:00:00\n",
      "2022-06-01 00:00:00 2022-06-30 00:00:00\n",
      "2022-07-01 00:00:00 2022-07-31 00:00:00\n"
     ]
    }
   ],
   "source": [
    "for one, two in date_lists:\n",
    "    print(one,two)"
   ]
  },
  {
   "cell_type": "code",
   "execution_count": null,
   "id": "cb66ff9c",
   "metadata": {},
   "outputs": [],
   "source": []
  },
  {
   "cell_type": "code",
   "execution_count": null,
   "id": "ab42fa98",
   "metadata": {},
   "outputs": [],
   "source": []
  }
 ],
 "metadata": {
  "kernelspec": {
   "display_name": "Python 3 (ipykernel)",
   "language": "python",
   "name": "python3"
  },
  "language_info": {
   "codemirror_mode": {
    "name": "ipython",
    "version": 3
   },
   "file_extension": ".py",
   "mimetype": "text/x-python",
   "name": "python",
   "nbconvert_exporter": "python",
   "pygments_lexer": "ipython3",
   "version": "3.8.13"
  }
 },
 "nbformat": 4,
 "nbformat_minor": 5
}
