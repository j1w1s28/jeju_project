{
 "cells": [
  {
   "cell_type": "code",
   "execution_count": 1,
   "id": "c6614e7d",
   "metadata": {},
   "outputs": [],
   "source": [
    "import requests"
   ]
  },
  {
   "cell_type": "code",
   "execution_count": 38,
   "id": "f67cb92f",
   "metadata": {},
   "outputs": [],
   "source": [
    "url = 'https://dapi.kakao.com/v2/local/search/keyword.json'\n",
    "params = {\n",
    "    'query': '제주도 맛집',\n",
    "    'page':2,\n",
    "    'size':20\n",
    "}\n",
    "headers = {\n",
    "    'Authorization': 'KakaoAK 2a7ebe349f9dca3eaf35f989672c75ee'\n",
    "}\n",
    "response = requests.get(url,params=params,headers=headers)"
   ]
  },
  {
   "cell_type": "code",
   "execution_count": 40,
   "id": "d218c227",
   "metadata": {},
   "outputs": [
    {
     "data": {
      "text/plain": [
       "400"
      ]
     },
     "execution_count": 40,
     "metadata": {},
     "output_type": "execute_result"
    }
   ],
   "source": [
    "response.status_code"
   ]
  },
  {
   "cell_type": "code",
   "execution_count": 41,
   "id": "1770a599",
   "metadata": {},
   "outputs": [
    {
     "data": {
      "text/plain": [
       "{'errorType': 'InvalidArgument', 'message': 'size is more than max'}"
      ]
     },
     "execution_count": 41,
     "metadata": {},
     "output_type": "execute_result"
    }
   ],
   "source": [
    "response.json()"
   ]
  }
 ],
 "metadata": {
  "kernelspec": {
   "display_name": "Python 3 (ipykernel)",
   "language": "python",
   "name": "python3"
  },
  "language_info": {
   "codemirror_mode": {
    "name": "ipython",
    "version": 3
   },
   "file_extension": ".py",
   "mimetype": "text/x-python",
   "name": "python",
   "nbconvert_exporter": "python",
   "pygments_lexer": "ipython3",
   "version": "3.8.13"
  }
 },
 "nbformat": 4,
 "nbformat_minor": 5
}
