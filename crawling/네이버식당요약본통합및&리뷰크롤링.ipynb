{
 "cells": [
  {
   "cell_type": "code",
   "execution_count": 54,
   "metadata": {},
   "outputs": [],
   "source": [
    "import pandas as pd\n",
    "import re\n",
    "import sys\n",
    "import random"
   ]
  },
  {
   "cell_type": "code",
   "execution_count": 40,
   "metadata": {},
   "outputs": [
    {
     "name": "stderr",
     "output_type": "stream",
     "text": [
      "C:\\Users\\TJ\\AppData\\Local\\Temp\\ipykernel_16728\\126888445.py:1: DtypeWarning: Columns (3,10,21,25,27,34,38,39,43) have mixed types. Specify dtype option on import or set low_memory=False.\n",
      "  food_db = pd.read_csv('../data/naver_crawling/음식점db_final.csv')\n"
     ]
    }
   ],
   "source": [
    "food_db = pd.read_csv('../data/naver_crawling/음식점db_final.csv')\n",
    "cafe_df = pd.read_csv('../crawling/tmp_cafe.csv')"
   ]
  },
  {
   "cell_type": "code",
   "execution_count": 41,
   "metadata": {},
   "outputs": [],
   "source": [
    "cafe_df.drop_duplicates(subset='id',inplace=True)"
   ]
  },
  {
   "cell_type": "code",
   "execution_count": 42,
   "metadata": {},
   "outputs": [],
   "source": [
    "cafe_df.drop('Unnamed: 0',axis=1,inplace=True)"
   ]
  },
  {
   "cell_type": "code",
   "execution_count": 43,
   "metadata": {},
   "outputs": [],
   "source": [
    "drop_lsts = [\"isSite\",\"type\",\"rCode\",\"posExact\",\"address\",\"addressAbbr\",\"roadAddr\",\"isCallLink\",\"adult\",\"endPageUrl\",\"mobileEndPageUrl\",\"ktCallMd\",\"ppc\",\"imageModDate\",\"displayCategory\",\"category\",\"categoryPaths\",\"previewImages\",\"streetPanorama\",\"skyPanorama\",\"insidePanorama\",\"interiorPanorama\",\"indoorPanorama\",\"poiInfo\",\"entranceCoords\",\"theme\",\"petrolInfo\",\"marker\",\"markerSelected\",\"datalab\",\"dynamicData\",\"markerLabel\",\"isParkingSupported\",\"indoor\"]\n",
    "cafe_df.drop(drop_lsts,axis=1,inplace=True)"
   ]
  },
  {
   "cell_type": "code",
   "execution_count": 44,
   "metadata": {},
   "outputs": [
    {
     "data": {
      "text/plain": [
       "Index(['id', 'name', 'x', 'y', 'fullAddress', 'fullRoadAddress', 'phone',\n",
       "       'description', 'way', 'keywords', 'hasNaverTalktalkUrl',\n",
       "       'naverTalktalkUrl', 'urlList', 'images', 'imageURL', 'categories',\n",
       "       'bizHour', 'bizhourInfo', 'options', 'menus', 'menuImages',\n",
       "       'hasNaverBooking', 'naverBookingUrl', 'naverbookingId', 'michelinGuide',\n",
       "       'broadcastInfo', 'reviewCount', 'ITS_BRO_NM', 'SRCH_CNT', 'TOP1Percent',\n",
       "       'visitorReviewsTotal', 'ratingReviewsTotal', 'avgRating',\n",
       "       'rating_total_count', 'Counts_per_Scores', 'imageReviewCount',\n",
       "       'authorCount', 'maxSingleReviewScoreCount', 'themes', 'review_menus',\n",
       "       'votedKeywords_totalCount', 'votedKeywords_reviewCount',\n",
       "       'votedKeywords_userCount', 'votedKeywords'],\n",
       "      dtype='object')"
      ]
     },
     "execution_count": 44,
     "metadata": {},
     "output_type": "execute_result"
    }
   ],
   "source": [
    "food_db.columns"
   ]
  },
  {
   "cell_type": "code",
   "execution_count": 45,
   "metadata": {},
   "outputs": [
    {
     "data": {
      "text/plain": [
       "Index(['id', 'name', 'x', 'y', 'fullAddress', 'fullRoadAddress', 'phone',\n",
       "       'description', 'way', 'keywords', 'hasNaverTalktalkUrl',\n",
       "       'naverTalktalkUrl', 'urlList', 'images', 'categories', 'bizHour',\n",
       "       'bizhourInfo', 'options', 'menus', 'menuImages', 'hasNaverBooking',\n",
       "       'naverBookingUrl', 'naverbookingId', 'michelinGuide', 'broadcastInfo',\n",
       "       'reviewCount', 'imageURL'],\n",
       "      dtype='object')"
      ]
     },
     "execution_count": 45,
     "metadata": {},
     "output_type": "execute_result"
    }
   ],
   "source": [
    "cafe_df.columns"
   ]
  },
  {
   "cell_type": "code",
   "execution_count": 46,
   "metadata": {},
   "outputs": [],
   "source": [
    "test_df =pd.concat([food_db,cafe_df],axis=0,ignore_index=True)"
   ]
  },
  {
   "cell_type": "code",
   "execution_count": 47,
   "metadata": {},
   "outputs": [
    {
     "data": {
      "text/plain": [
       "(17566, 44)"
      ]
     },
     "execution_count": 47,
     "metadata": {},
     "output_type": "execute_result"
    }
   ],
   "source": [
    "test_df.shape"
   ]
  },
  {
   "cell_type": "code",
   "execution_count": 50,
   "metadata": {},
   "outputs": [],
   "source": [
    "test_df.drop_duplicates(subset='id',inplace=True,ignore_index=True)"
   ]
  },
  {
   "cell_type": "code",
   "execution_count": 51,
   "metadata": {},
   "outputs": [
    {
     "data": {
      "text/plain": [
       "(16477, 44)"
      ]
     },
     "execution_count": 51,
     "metadata": {},
     "output_type": "execute_result"
    }
   ],
   "source": [
    "test_df.shape"
   ]
  },
  {
   "cell_type": "code",
   "execution_count": 53,
   "metadata": {},
   "outputs": [],
   "source": [
    "test_df.to_csv('../data/naver_crawling/음식점db_final_concat_Cafe.csv',index=False)"
   ]
  },
  {
   "cell_type": "code",
   "execution_count": 56,
   "metadata": {},
   "outputs": [
    {
     "data": {
      "text/html": [
       "<div>\n",
       "<style scoped>\n",
       "    .dataframe tbody tr th:only-of-type {\n",
       "        vertical-align: middle;\n",
       "    }\n",
       "\n",
       "    .dataframe tbody tr th {\n",
       "        vertical-align: top;\n",
       "    }\n",
       "\n",
       "    .dataframe thead th {\n",
       "        text-align: right;\n",
       "    }\n",
       "</style>\n",
       "<table border=\"1\" class=\"dataframe\">\n",
       "  <thead>\n",
       "    <tr style=\"text-align: right;\">\n",
       "      <th></th>\n",
       "      <th>id</th>\n",
       "      <th>name</th>\n",
       "      <th>x</th>\n",
       "      <th>y</th>\n",
       "      <th>fullAddress</th>\n",
       "      <th>fullRoadAddress</th>\n",
       "      <th>phone</th>\n",
       "      <th>description</th>\n",
       "      <th>way</th>\n",
       "      <th>keywords</th>\n",
       "      <th>...</th>\n",
       "      <th>Counts_per_Scores</th>\n",
       "      <th>imageReviewCount</th>\n",
       "      <th>authorCount</th>\n",
       "      <th>maxSingleReviewScoreCount</th>\n",
       "      <th>themes</th>\n",
       "      <th>review_menus</th>\n",
       "      <th>votedKeywords_totalCount</th>\n",
       "      <th>votedKeywords_reviewCount</th>\n",
       "      <th>votedKeywords_userCount</th>\n",
       "      <th>votedKeywords</th>\n",
       "    </tr>\n",
       "  </thead>\n",
       "  <tbody>\n",
       "  </tbody>\n",
       "</table>\n",
       "<p>0 rows × 44 columns</p>\n",
       "</div>"
      ],
      "text/plain": [
       "Empty DataFrame\n",
       "Columns: [id, name, x, y, fullAddress, fullRoadAddress, phone, description, way, keywords, hasNaverTalktalkUrl, naverTalktalkUrl, urlList, images, imageURL, categories, bizHour, bizhourInfo, options, menus, menuImages, hasNaverBooking, naverBookingUrl, naverbookingId, michelinGuide, broadcastInfo, reviewCount, ITS_BRO_NM, SRCH_CNT, TOP1Percent, visitorReviewsTotal, ratingReviewsTotal, avgRating, rating_total_count, Counts_per_Scores, imageReviewCount, authorCount, maxSingleReviewScoreCount, themes, review_menus, votedKeywords_totalCount, votedKeywords_reviewCount, votedKeywords_userCount, votedKeywords]\n",
       "Index: []\n",
       "\n",
       "[0 rows x 44 columns]"
      ]
     },
     "execution_count": 56,
     "metadata": {},
     "output_type": "execute_result"
    }
   ],
   "source": []
  }
 ],
 "metadata": {
  "kernelspec": {
   "display_name": "Python 3 (ipykernel)",
   "language": "python",
   "name": "python3"
  },
  "language_info": {
   "codemirror_mode": {
    "name": "ipython",
    "version": 3
   },
   "file_extension": ".py",
   "mimetype": "text/x-python",
   "name": "python",
   "nbconvert_exporter": "python",
   "pygments_lexer": "ipython3",
   "version": "3.8.13"
  },
  "vscode": {
   "interpreter": {
    "hash": "c7c6531260f3ab1d8810459c44c47d7fac9c3fbc2eb5f556f0349ce106a7c2dd"
   }
  }
 },
 "nbformat": 4,
 "nbformat_minor": 2
}
